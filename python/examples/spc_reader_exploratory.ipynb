{
 "cells": [
  {
   "cell_type": "markdown",
   "metadata": {},
   "source": [
    "### Imports\n"
   ]
  },
  {
   "cell_type": "code",
   "execution_count": 1,
   "metadata": {},
   "outputs": [],
   "source": [
    "import os\n",
    "import matplotlib.pyplot as plt\n",
    "import polars as pl\n",
    "import polars.selectors as cs\n",
    "import numpy as np\n",
    "import seaborn as sns\n",
    "import plotly.express as px\n",
    "import statsmodels.formula.api as smf\n",
    "from sklearn.cluster import KMeans\n",
    "from uatk_spc.reader import SPCReader\n",
    "import warnings\n",
    "\n",
    "warnings.filterwarnings(\"ignore\")"
   ]
  },
  {
   "cell_type": "markdown",
   "metadata": {},
   "source": [
    "**Notes on the SPC and toolkit**:\n",
    "\n",
    "- Aims to provide performant exploratory analysis of the data to identify properties\n",
    "- Clustering among population/regions can be helpful for observing patterns in the data\n",
    "- Formal statistical analysis should be avoided as the population is synthetic\n"
   ]
  },
  {
   "cell_type": "markdown",
   "metadata": {},
   "source": [
    "### 1. Load an example region and explore data structure\n",
    "\n",
    "As an example, load the SPC output for the Oxford-Cambridge arc region.\n"
   ]
  },
  {
   "cell_type": "code",
   "execution_count": 2,
   "metadata": {},
   "outputs": [],
   "source": [
    "path = \"../../data/output/special/2020\"\n",
    "region = \"oxford_cambridge_arc\""
   ]
  },
  {
   "cell_type": "markdown",
   "metadata": {},
   "source": [
    "Performant read from parquet and JSON with polars.\n"
   ]
  },
  {
   "cell_type": "code",
   "execution_count": 3,
   "metadata": {},
   "outputs": [],
   "source": [
    "spc = SPCReader(path, region, backend=\"polars\")"
   ]
  },
  {
   "cell_type": "markdown",
   "metadata": {},
   "source": [
    "People dataframe\n"
   ]
  },
  {
   "cell_type": "code",
   "execution_count": 4,
   "metadata": {},
   "outputs": [
    {
     "data": {
      "text/html": [
       "<div><style>\n",
       ".dataframe > thead > tr > th,\n",
       ".dataframe > tbody > tr > td {\n",
       "  text-align: right;\n",
       "}\n",
       "</style>\n",
       "<small>shape: (5, 11)</small><table border=\"1\" class=\"dataframe\"><thead><tr><th>id</th><th>household</th><th>workplace</th><th>location</th><th>identifiers</th><th>demographics</th><th>employment</th><th>health</th><th>events</th><th>weekday_diaries</th><th>weekend_diaries</th></tr><tr><td>u64</td><td>u64</td><td>u64</td><td>struct[2]</td><td>struct[4]</td><td>struct[4]</td><td>struct[6]</td><td>struct[7]</td><td>struct[7]</td><td>list[u64]</td><td>list[u64]</td></tr></thead><tbody><tr><td>0</td><td>0</td><td>null</td><td>{-0.292946,52.133789}</td><td>{&quot;E02003599_0001_001&quot;,11180818,1,2904017}</td><td>{2,40,1,6}</td><td>{&quot;C&quot;,30,8133,7,null,null}</td><td>{37.280968,false,false,false,null,1,3}</td><td>{0.255,0.09435,0.016746,0.039074,1.024287,2.390004,0.15741}</td><td>[1030, 1260, 5319]</td><td>[1031, 1261, 5318]</td></tr><tr><td>1</td><td>0</td><td>88</td><td>{-0.292946,52.133789}</td><td>{&quot;E02003599_0001_002&quot;,14061013,2,2905699}</td><td>{1,39,1,1}</td><td>{&quot;M&quot;,69,1132,1,127906.320312,70.278198}</td><td>{35.771095,false,false,false,null,2,3}</td><td>{0.255,0.3213,0.070199,0.030085,2.254896,0.966384,0.15741}</td><td>[2832, 7805, … 14038]</td><td>[2833, 7804, … 14039]</td></tr><tr><td>2</td><td>0</td><td>null</td><td>{-0.292946,52.133789}</td><td>{&quot;E02003599_0001_003&quot;,16230603,4,2909186}</td><td>{2,7,1,null}</td><td>{null,null,null,0,null,null}</td><td>{null,false,false,false,null,1,null}</td><td>{0.257,0.09509,0.013041,0.030429,0.000854,0.001993,0.107325}</td><td>[107, 453, … 16247]</td><td>[106, 454, … 16246]</td></tr><tr><td>3</td><td>1</td><td>null</td><td>{-0.292673,52.131351}</td><td>{&quot;E02003599_0002_001&quot;,18151205,2,2905565}</td><td>{1,66,1,4}</td><td>{&quot;O&quot;,84,3313,6,null,null}</td><td>{34.354729,true,true,true,4,4,3}</td><td>{0.239,0.15057,2.1016e-14,9.0070e-15,0.34922,0.149666,0.15741}</td><td>[513, 1819, … 15923]</td><td>[514, 1818, … 15924]</td></tr><tr><td>4</td><td>1</td><td>48941</td><td>{-0.292673,52.131351}</td><td>{&quot;E02003599_0002_002&quot;,11090209,1,2902895}</td><td>{2,60,1,1}</td><td>{&quot;P&quot;,85,1135,1,64961.53125,33.76379}</td><td>{20.597435,false,false,false,null,3,null}</td><td>{0.268,0.19832,5.6552e-11,1.3196e-10,0.41975,0.979416,0.160325}</td><td>[538, 7588, … 14060]</td><td>[537, 7589, … 14061]</td></tr></tbody></table></div>"
      ],
      "text/plain": [
       "shape: (5, 11)\n",
       "┌─────┬───────────┬───────────┬────────────┬───┬────────────┬────────────┬────────────┬────────────┐\n",
       "│ id  ┆ household ┆ workplace ┆ location   ┆ … ┆ health     ┆ events     ┆ weekday_di ┆ weekend_di │\n",
       "│ --- ┆ ---       ┆ ---       ┆ ---        ┆   ┆ ---        ┆ ---        ┆ aries      ┆ aries      │\n",
       "│ u64 ┆ u64       ┆ u64       ┆ struct[2]  ┆   ┆ struct[7]  ┆ struct[7]  ┆ ---        ┆ ---        │\n",
       "│     ┆           ┆           ┆            ┆   ┆            ┆            ┆ list[u64]  ┆ list[u64]  │\n",
       "╞═════╪═══════════╪═══════════╪════════════╪═══╪════════════╪════════════╪════════════╪════════════╡\n",
       "│ 0   ┆ 0         ┆ null      ┆ {-0.292946 ┆ … ┆ {37.280968 ┆ {0.255,0.0 ┆ [1030,     ┆ [1031,     │\n",
       "│     ┆           ┆           ┆ ,52.133789 ┆   ┆ ,false,fal ┆ 9435,0.016 ┆ 1260,      ┆ 1261,      │\n",
       "│     ┆           ┆           ┆ }          ┆   ┆ se,false,n ┆ 746,0.0390 ┆ 5319]      ┆ 5318]      │\n",
       "│     ┆           ┆           ┆            ┆   ┆ ul…        ┆ 74…        ┆            ┆            │\n",
       "│ 1   ┆ 0         ┆ 88        ┆ {-0.292946 ┆ … ┆ {35.771095 ┆ {0.255,0.3 ┆ [2832,     ┆ [2833,     │\n",
       "│     ┆           ┆           ┆ ,52.133789 ┆   ┆ ,false,fal ┆ 213,0.0701 ┆ 7805, …    ┆ 7804, …    │\n",
       "│     ┆           ┆           ┆ }          ┆   ┆ se,false,n ┆ 99,0.03008 ┆ 14038]     ┆ 14039]     │\n",
       "│     ┆           ┆           ┆            ┆   ┆ ul…        ┆ 5,…        ┆            ┆            │\n",
       "│ 2   ┆ 0         ┆ null      ┆ {-0.292946 ┆ … ┆ {null,fals ┆ {0.257,0.0 ┆ [107, 453, ┆ [106, 454, │\n",
       "│     ┆           ┆           ┆ ,52.133789 ┆   ┆ e,false,fa ┆ 9509,0.013 ┆ … 16247]   ┆ … 16246]   │\n",
       "│     ┆           ┆           ┆ }          ┆   ┆ lse,null,1 ┆ 041,0.0304 ┆            ┆            │\n",
       "│     ┆           ┆           ┆            ┆   ┆ ,n…        ┆ 29…        ┆            ┆            │\n",
       "│ 3   ┆ 1         ┆ null      ┆ {-0.292673 ┆ … ┆ {34.354729 ┆ {0.239,0.1 ┆ [513,      ┆ [514,      │\n",
       "│     ┆           ┆           ┆ ,52.131351 ┆   ┆ ,true,true ┆ 5057,2.101 ┆ 1819, …    ┆ 1818, …    │\n",
       "│     ┆           ┆           ┆ }          ┆   ┆ ,true,4,4, ┆ 6e-14,9.00 ┆ 15923]     ┆ 15924]     │\n",
       "│     ┆           ┆           ┆            ┆   ┆ 3}         ┆ 70…        ┆            ┆            │\n",
       "│ 4   ┆ 1         ┆ 48941     ┆ {-0.292673 ┆ … ┆ {20.597435 ┆ {0.268,0.1 ┆ [538,      ┆ [537,      │\n",
       "│     ┆           ┆           ┆ ,52.131351 ┆   ┆ ,false,fal ┆ 9832,5.655 ┆ 7588, …    ┆ 7589, …    │\n",
       "│     ┆           ┆           ┆ }          ┆   ┆ se,false,n ┆ 2e-11,1.31 ┆ 14060]     ┆ 14061]     │\n",
       "│     ┆           ┆           ┆            ┆   ┆ ul…        ┆ 96…        ┆            ┆            │\n",
       "└─────┴───────────┴───────────┴────────────┴───┴────────────┴────────────┴────────────┴────────────┘"
      ]
     },
     "execution_count": 4,
     "metadata": {},
     "output_type": "execute_result"
    }
   ],
   "source": [
    "spc.people.head()"
   ]
  },
  {
   "cell_type": "code",
   "execution_count": 5,
   "metadata": {},
   "outputs": [
    {
     "name": "stdout",
     "output_type": "stream",
     "text": [
      "Shape: (2950743, 11)\n"
     ]
    },
    {
     "data": {
      "text/plain": [
       "{'id': UInt64,\n",
       " 'household': UInt64,\n",
       " 'workplace': UInt64,\n",
       " 'location': Struct([Field('x', Float32), Field('y', Float32)]),\n",
       " 'identifiers': Struct([Field('orig_pid', Utf8), Field('id_tus_hh', Int64), Field('id_tus_p', Int64), Field('pid_hs', Int64)]),\n",
       " 'demographics': Struct([Field('sex', Int32), Field('age_years', UInt32), Field('ethnicity', Int32), Field('nssec8', Int32)]),\n",
       " 'employment': Struct([Field('sic1d2007', Utf8), Field('sic2d2007', UInt64), Field('soc2010', UInt64), Field('pwkstat', Int32), Field('salary_yearly', Float32), Field('salary_hourly', Float32)]),\n",
       " 'health': Struct([Field('bmi', Float32), Field('has_cardiovascular_disease', Boolean), Field('has_diabetes', Boolean), Field('has_high_blood_pressure', Boolean), Field('number_medications', UInt64), Field('self_assessed_health', Int32), Field('life_satisfaction', Int32)]),\n",
       " 'events': Struct([Field('sport', Float32), Field('rugby', Float32), Field('concert_m', Float32), Field('concert_f', Float32), Field('concert_ms', Float32), Field('concert_fs', Float32), Field('museum', Float32)]),\n",
       " 'weekday_diaries': List(UInt64),\n",
       " 'weekend_diaries': List(UInt64)}"
      ]
     },
     "execution_count": 5,
     "metadata": {},
     "output_type": "execute_result"
    }
   ],
   "source": [
    "spc.summary(\"people\")"
   ]
  },
  {
   "cell_type": "markdown",
   "metadata": {},
   "source": [
    "View unnested forms of: \"health\", \"employment\", \"events\"\n"
   ]
  },
  {
   "cell_type": "code",
   "execution_count": 6,
   "metadata": {},
   "outputs": [
    {
     "name": "stdout",
     "output_type": "stream",
     "text": [
      "shape: (5, 7)\n",
      "┌───────────┬──────────────┬──────────────┬──────────────┬─────────────┬─────────────┬─────────────┐\n",
      "│ bmi       ┆ has_cardiova ┆ has_diabetes ┆ has_high_blo ┆ number_medi ┆ self_assess ┆ life_satisf │\n",
      "│ ---       ┆ scular_disea ┆ ---          ┆ od_pressure  ┆ cations     ┆ ed_health   ┆ action      │\n",
      "│ f32       ┆ se           ┆ bool         ┆ ---          ┆ ---         ┆ ---         ┆ ---         │\n",
      "│           ┆ ---          ┆              ┆ bool         ┆ u64         ┆ i32         ┆ i32         │\n",
      "│           ┆ bool         ┆              ┆              ┆             ┆             ┆             │\n",
      "╞═══════════╪══════════════╪══════════════╪══════════════╪═════════════╪═════════════╪═════════════╡\n",
      "│ 37.280968 ┆ false        ┆ false        ┆ false        ┆ null        ┆ 1           ┆ 3           │\n",
      "│ 35.771095 ┆ false        ┆ false        ┆ false        ┆ null        ┆ 2           ┆ 3           │\n",
      "│ null      ┆ false        ┆ false        ┆ false        ┆ null        ┆ 1           ┆ null        │\n",
      "│ 34.354729 ┆ true         ┆ true         ┆ true         ┆ 4           ┆ 4           ┆ 3           │\n",
      "│ 20.597435 ┆ false        ┆ false        ┆ false        ┆ null        ┆ 3           ┆ null        │\n",
      "└───────────┴──────────────┴──────────────┴──────────────┴─────────────┴─────────────┴─────────────┘\n"
     ]
    }
   ],
   "source": [
    "col = \"health\"\n",
    "print(spc.people.select(col).unnest(col).head())"
   ]
  },
  {
   "cell_type": "code",
   "execution_count": 7,
   "metadata": {},
   "outputs": [
    {
     "name": "stdout",
     "output_type": "stream",
     "text": [
      "shape: (5, 6)\n",
      "┌───────────┬───────────┬─────────┬─────────┬───────────────┬───────────────┐\n",
      "│ sic1d2007 ┆ sic2d2007 ┆ soc2010 ┆ pwkstat ┆ salary_yearly ┆ salary_hourly │\n",
      "│ ---       ┆ ---       ┆ ---     ┆ ---     ┆ ---           ┆ ---           │\n",
      "│ str       ┆ u64       ┆ u64     ┆ i32     ┆ f32           ┆ f32           │\n",
      "╞═══════════╪═══════════╪═════════╪═════════╪═══════════════╪═══════════════╡\n",
      "│ C         ┆ 30        ┆ 8133    ┆ 7       ┆ null          ┆ null          │\n",
      "│ M         ┆ 69        ┆ 1132    ┆ 1       ┆ 127906.320312 ┆ 70.278198     │\n",
      "│ null      ┆ null      ┆ null    ┆ 0       ┆ null          ┆ null          │\n",
      "│ O         ┆ 84        ┆ 3313    ┆ 6       ┆ null          ┆ null          │\n",
      "│ P         ┆ 85        ┆ 1135    ┆ 1       ┆ 64961.53125   ┆ 33.76379      │\n",
      "└───────────┴───────────┴─────────┴─────────┴───────────────┴───────────────┘\n"
     ]
    }
   ],
   "source": [
    "col = \"employment\"\n",
    "print(spc.people.select(col).unnest(col).head())"
   ]
  },
  {
   "cell_type": "code",
   "execution_count": 8,
   "metadata": {},
   "outputs": [
    {
     "name": "stdout",
     "output_type": "stream",
     "text": [
      "shape: (2_950_743, 7)\n",
      "┌───────────┬──────────────┬──────────────┬──────────────┬─────────────┬─────────────┬─────────────┐\n",
      "│ bmi       ┆ has_cardiova ┆ has_diabetes ┆ has_high_blo ┆ number_medi ┆ self_assess ┆ life_satisf │\n",
      "│ ---       ┆ scular_disea ┆ ---          ┆ od_pressure  ┆ cations     ┆ ed_health   ┆ action      │\n",
      "│ f32       ┆ se           ┆ bool         ┆ ---          ┆ ---         ┆ ---         ┆ ---         │\n",
      "│           ┆ ---          ┆              ┆ bool         ┆ u64         ┆ i32         ┆ i32         │\n",
      "│           ┆ bool         ┆              ┆              ┆             ┆             ┆             │\n",
      "╞═══════════╪══════════════╪══════════════╪══════════════╪═════════════╪═════════════╪═════════════╡\n",
      "│ 37.280968 ┆ false        ┆ false        ┆ false        ┆ null        ┆ 1           ┆ 3           │\n",
      "│ 35.771095 ┆ false        ┆ false        ┆ false        ┆ null        ┆ 2           ┆ 3           │\n",
      "│ null      ┆ false        ┆ false        ┆ false        ┆ null        ┆ 1           ┆ null        │\n",
      "│ 34.354729 ┆ true         ┆ true         ┆ true         ┆ 4           ┆ 4           ┆ 3           │\n",
      "│ …         ┆ …            ┆ …            ┆ …            ┆ …           ┆ …           ┆ …           │\n",
      "│ null      ┆ false        ┆ false        ┆ false        ┆ null        ┆ 2           ┆ null        │\n",
      "│ 30.28348  ┆ true         ┆ false        ┆ false        ┆ 6           ┆ 2           ┆ 3           │\n",
      "│ 29.164146 ┆ false        ┆ false        ┆ false        ┆ 2           ┆ 4           ┆ 1           │\n",
      "│ 29.5714   ┆ false        ┆ false        ┆ false        ┆ null        ┆ 4           ┆ 3           │\n",
      "└───────────┴──────────────┴──────────────┴──────────────┴─────────────┴─────────────┴─────────────┘\n"
     ]
    }
   ],
   "source": [
    "col = \"health\"\n",
    "print(spc.people.select(col).unnest(col))"
   ]
  },
  {
   "cell_type": "markdown",
   "metadata": {},
   "source": [
    "Households dataframe\n"
   ]
  },
  {
   "cell_type": "code",
   "execution_count": 9,
   "metadata": {},
   "outputs": [
    {
     "data": {
      "text/html": [
       "<div><style>\n",
       ".dataframe > thead > tr > th,\n",
       ".dataframe > tbody > tr > td {\n",
       "  text-align: right;\n",
       "}\n",
       "</style>\n",
       "<small>shape: (5, 5)</small><table border=\"1\" class=\"dataframe\"><thead><tr><th>id</th><th>msoa</th><th>oa</th><th>members</th><th>details</th></tr><tr><td>u64</td><td>str</td><td>str</td><td>list[u64]</td><td>struct[8]</td></tr></thead><tbody><tr><td>0</td><td>&quot;E02003599&quot;</td><td>&quot;E00088035&quot;</td><td>[0, 1, 2]</td><td>{&quot;E02003599_0001&quot;,6,4,null,5,true,5,2}</td></tr><tr><td>1</td><td>&quot;E02003599&quot;</td><td>&quot;E00088045&quot;</td><td>[3, 4, 5]</td><td>{&quot;E02003599_0002&quot;,4,2,null,6,true,2,2}</td></tr><tr><td>2</td><td>&quot;E02003599&quot;</td><td>&quot;E00088033&quot;</td><td>[6]</td><td>{&quot;E02003599_0003&quot;,8,3,null,2,true,4,1}</td></tr><tr><td>3</td><td>&quot;E02003599&quot;</td><td>&quot;E00088052&quot;</td><td>[7, 8, 9]</td><td>{&quot;E02003599_0004&quot;,5,3,null,5,true,4,0}</td></tr><tr><td>4</td><td>&quot;E02003599&quot;</td><td>&quot;E00088040&quot;</td><td>[10]</td><td>{&quot;E02003599_0005&quot;,6,2,null,6,true,4,0}</td></tr></tbody></table></div>"
      ],
      "text/plain": [
       "shape: (5, 5)\n",
       "┌─────┬───────────┬───────────┬───────────┬───────────────────────────────────┐\n",
       "│ id  ┆ msoa      ┆ oa        ┆ members   ┆ details                           │\n",
       "│ --- ┆ ---       ┆ ---       ┆ ---       ┆ ---                               │\n",
       "│ u64 ┆ str       ┆ str       ┆ list[u64] ┆ struct[8]                         │\n",
       "╞═════╪═══════════╪═══════════╪═══════════╪═══════════════════════════════════╡\n",
       "│ 0   ┆ E02003599 ┆ E00088035 ┆ [0, 1, 2] ┆ {\"E02003599_0001\",6,4,null,5,tru… │\n",
       "│ 1   ┆ E02003599 ┆ E00088045 ┆ [3, 4, 5] ┆ {\"E02003599_0002\",4,2,null,6,tru… │\n",
       "│ 2   ┆ E02003599 ┆ E00088033 ┆ [6]       ┆ {\"E02003599_0003\",8,3,null,2,tru… │\n",
       "│ 3   ┆ E02003599 ┆ E00088052 ┆ [7, 8, 9] ┆ {\"E02003599_0004\",5,3,null,5,tru… │\n",
       "│ 4   ┆ E02003599 ┆ E00088040 ┆ [10]      ┆ {\"E02003599_0005\",6,2,null,6,tru… │\n",
       "└─────┴───────────┴───────────┴───────────┴───────────────────────────────────┘"
      ]
     },
     "execution_count": 9,
     "metadata": {},
     "output_type": "execute_result"
    }
   ],
   "source": [
    "spc.households.head()"
   ]
  },
  {
   "cell_type": "code",
   "execution_count": 10,
   "metadata": {},
   "outputs": [
    {
     "name": "stdout",
     "output_type": "stream",
     "text": [
      "Shape: (1199021, 5)\n"
     ]
    },
    {
     "data": {
      "text/plain": [
       "{'id': UInt64,\n",
       " 'msoa': Utf8,\n",
       " 'oa': Utf8,\n",
       " 'members': List(UInt64),\n",
       " 'details': Struct([Field('hid', Utf8), Field('nssec8', Int32), Field('accommodation_type', Int32), Field('communal_type', Int32), Field('num_rooms', UInt64), Field('central_heat', Boolean), Field('tenure', Int32), Field('num_cars', UInt64)])}"
      ]
     },
     "execution_count": 10,
     "metadata": {},
     "output_type": "execute_result"
    }
   ],
   "source": [
    "spc.summary(\"households\")"
   ]
  },
  {
   "cell_type": "code",
   "execution_count": 11,
   "metadata": {},
   "outputs": [
    {
     "data": {
      "text/html": [
       "<div><style>\n",
       ".dataframe > thead > tr > th,\n",
       ".dataframe > tbody > tr > td {\n",
       "  text-align: right;\n",
       "}\n",
       "</style>\n",
       "<small>shape: (5, 12)</small><table border=\"1\" class=\"dataframe\"><thead><tr><th>id</th><th>msoa</th><th>oa</th><th>members</th><th>hid</th><th>nssec8</th><th>accommodation_type</th><th>communal_type</th><th>num_rooms</th><th>central_heat</th><th>tenure</th><th>num_cars</th></tr><tr><td>u64</td><td>str</td><td>str</td><td>list[u64]</td><td>str</td><td>i32</td><td>i32</td><td>i32</td><td>u64</td><td>bool</td><td>i32</td><td>u64</td></tr></thead><tbody><tr><td>0</td><td>&quot;E02003599&quot;</td><td>&quot;E00088035&quot;</td><td>[0, 1, 2]</td><td>&quot;E02003599_0001…</td><td>6</td><td>4</td><td>null</td><td>5</td><td>true</td><td>5</td><td>2</td></tr><tr><td>1</td><td>&quot;E02003599&quot;</td><td>&quot;E00088045&quot;</td><td>[3, 4, 5]</td><td>&quot;E02003599_0002…</td><td>4</td><td>2</td><td>null</td><td>6</td><td>true</td><td>2</td><td>2</td></tr><tr><td>2</td><td>&quot;E02003599&quot;</td><td>&quot;E00088033&quot;</td><td>[6]</td><td>&quot;E02003599_0003…</td><td>8</td><td>3</td><td>null</td><td>2</td><td>true</td><td>4</td><td>1</td></tr><tr><td>3</td><td>&quot;E02003599&quot;</td><td>&quot;E00088052&quot;</td><td>[7, 8, 9]</td><td>&quot;E02003599_0004…</td><td>5</td><td>3</td><td>null</td><td>5</td><td>true</td><td>4</td><td>0</td></tr><tr><td>4</td><td>&quot;E02003599&quot;</td><td>&quot;E00088040&quot;</td><td>[10]</td><td>&quot;E02003599_0005…</td><td>6</td><td>2</td><td>null</td><td>6</td><td>true</td><td>4</td><td>0</td></tr></tbody></table></div>"
      ],
      "text/plain": [
       "shape: (5, 12)\n",
       "┌─────┬───────────┬───────────┬───────────┬───┬───────────┬──────────────┬────────┬──────────┐\n",
       "│ id  ┆ msoa      ┆ oa        ┆ members   ┆ … ┆ num_rooms ┆ central_heat ┆ tenure ┆ num_cars │\n",
       "│ --- ┆ ---       ┆ ---       ┆ ---       ┆   ┆ ---       ┆ ---          ┆ ---    ┆ ---      │\n",
       "│ u64 ┆ str       ┆ str       ┆ list[u64] ┆   ┆ u64       ┆ bool         ┆ i32    ┆ u64      │\n",
       "╞═════╪═══════════╪═══════════╪═══════════╪═══╪═══════════╪══════════════╪════════╪══════════╡\n",
       "│ 0   ┆ E02003599 ┆ E00088035 ┆ [0, 1, 2] ┆ … ┆ 5         ┆ true         ┆ 5      ┆ 2        │\n",
       "│ 1   ┆ E02003599 ┆ E00088045 ┆ [3, 4, 5] ┆ … ┆ 6         ┆ true         ┆ 2      ┆ 2        │\n",
       "│ 2   ┆ E02003599 ┆ E00088033 ┆ [6]       ┆ … ┆ 2         ┆ true         ┆ 4      ┆ 1        │\n",
       "│ 3   ┆ E02003599 ┆ E00088052 ┆ [7, 8, 9] ┆ … ┆ 5         ┆ true         ┆ 4      ┆ 0        │\n",
       "│ 4   ┆ E02003599 ┆ E00088040 ┆ [10]      ┆ … ┆ 6         ┆ true         ┆ 4      ┆ 0        │\n",
       "└─────┴───────────┴───────────┴───────────┴───┴───────────┴──────────────┴────────┴──────────┘"
      ]
     },
     "execution_count": 11,
     "metadata": {},
     "output_type": "execute_result"
    }
   ],
   "source": [
    "col = \"details\"\n",
    "spc.households.unnest(\"details\").head()"
   ]
  },
  {
   "cell_type": "markdown",
   "metadata": {},
   "source": [
    "Show venues\n"
   ]
  },
  {
   "cell_type": "code",
   "execution_count": 12,
   "metadata": {},
   "outputs": [
    {
     "data": {
      "text/html": [
       "<div><style>\n",
       ".dataframe > thead > tr > th,\n",
       ".dataframe > tbody > tr > td {\n",
       "  text-align: right;\n",
       "}\n",
       "</style>\n",
       "<small>shape: (5, 4)</small><table border=\"1\" class=\"dataframe\"><thead><tr><th>id</th><th>activity</th><th>location</th><th>urn</th></tr><tr><td>u64</td><td>str</td><td>struct[2]</td><td>str</td></tr></thead><tbody><tr><td>0</td><td>&quot;Retail&quot;</td><td>{-0.203788,51.981995}</td><td>null</td></tr><tr><td>1</td><td>&quot;Retail&quot;</td><td>{-0.522467,51.903172}</td><td>null</td></tr><tr><td>2</td><td>&quot;Retail&quot;</td><td>{-1.28335,51.669636}</td><td>null</td></tr><tr><td>3</td><td>&quot;Retail&quot;</td><td>{-1.279668,51.672077}</td><td>null</td></tr><tr><td>4</td><td>&quot;Retail&quot;</td><td>{-1.309456,51.66703}</td><td>null</td></tr></tbody></table></div>"
      ],
      "text/plain": [
       "shape: (5, 4)\n",
       "┌─────┬──────────┬───────────────────────┬──────┐\n",
       "│ id  ┆ activity ┆ location              ┆ urn  │\n",
       "│ --- ┆ ---      ┆ ---                   ┆ ---  │\n",
       "│ u64 ┆ str      ┆ struct[2]             ┆ str  │\n",
       "╞═════╪══════════╪═══════════════════════╪══════╡\n",
       "│ 0   ┆ Retail   ┆ {-0.203788,51.981995} ┆ null │\n",
       "│ 1   ┆ Retail   ┆ {-0.522467,51.903172} ┆ null │\n",
       "│ 2   ┆ Retail   ┆ {-1.28335,51.669636}  ┆ null │\n",
       "│ 3   ┆ Retail   ┆ {-1.279668,51.672077} ┆ null │\n",
       "│ 4   ┆ Retail   ┆ {-1.309456,51.66703}  ┆ null │\n",
       "└─────┴──────────┴───────────────────────┴──────┘"
      ]
     },
     "execution_count": 12,
     "metadata": {},
     "output_type": "execute_result"
    }
   ],
   "source": [
    "spc.venues_per_activity.head()"
   ]
  },
  {
   "cell_type": "markdown",
   "metadata": {},
   "source": [
    "Show time use diaries\n"
   ]
  },
  {
   "cell_type": "code",
   "execution_count": 13,
   "metadata": {},
   "outputs": [
    {
     "data": {
      "text/html": [
       "<div><style>\n",
       ".dataframe > thead > tr > th,\n",
       ".dataframe > tbody > tr > td {\n",
       "  text-align: right;\n",
       "}\n",
       "</style>\n",
       "<small>shape: (5, 25)</small><table border=\"1\" class=\"dataframe\"><thead><tr><th>uid</th><th>weekday</th><th>day_type</th><th>month</th><th>pworkhome</th><th>phomeother</th><th>pwork</th><th>pschool</th><th>pshop</th><th>pservices</th><th>pleisure</th><th>pescort</th><th>ptransport</th><th>phome_total</th><th>pnothome_total</th><th>punknown_total</th><th>pmwalk</th><th>pmcycle</th><th>pmprivate</th><th>pmpublic</th><th>pmunknown</th><th>sex</th><th>age35g</th><th>nssec8</th><th>pwkstat</th></tr><tr><td>str</td><td>bool</td><td>i32</td><td>u32</td><td>f32</td><td>f32</td><td>f32</td><td>f32</td><td>f32</td><td>f32</td><td>f32</td><td>f32</td><td>f32</td><td>f32</td><td>f32</td><td>f32</td><td>f32</td><td>f32</td><td>f32</td><td>f32</td><td>f32</td><td>i32</td><td>u32</td><td>i32</td><td>i32</td></tr></thead><tbody><tr><td>&quot;11011202_1_0&quot;</td><td>false</td><td>3</td><td>12</td><td>0.0</td><td>0.82639</td><td>0.0</td><td>0.0</td><td>0.0625</td><td>0.0</td><td>0.09028</td><td>0.0</td><td>0.02083</td><td>0.82639</td><td>0.17361</td><td>0.0</td><td>0.0</td><td>0.0</td><td>1.0</td><td>0.0</td><td>0.0</td><td>2</td><td>13</td><td>4</td><td>1</td></tr><tr><td>&quot;11011202_1_1&quot;</td><td>true</td><td>3</td><td>12</td><td>0.0</td><td>0.79166</td><td>0.0</td><td>0.0</td><td>0.04167</td><td>0.0</td><td>0.125</td><td>0.0</td><td>0.04167</td><td>0.79166</td><td>0.20834</td><td>0.0</td><td>0.0</td><td>0.0</td><td>1.0</td><td>0.0</td><td>0.0</td><td>2</td><td>13</td><td>4</td><td>1</td></tr><tr><td>&quot;11011202_4_1&quot;</td><td>true</td><td>2</td><td>12</td><td>0.0</td><td>0.61111</td><td>0.0</td><td>0.27778</td><td>0.0</td><td>0.0</td><td>0.0</td><td>0.0</td><td>0.11111</td><td>0.61111</td><td>0.38889</td><td>0.0</td><td>0.0625</td><td>0.0</td><td>0.0625</td><td>0.875</td><td>0.0625</td><td>1</td><td>6</td><td>null</td><td>0</td></tr><tr><td>&quot;11011202_4_0&quot;</td><td>false</td><td>3</td><td>12</td><td>0.0</td><td>0.80556</td><td>0.0</td><td>0.01389</td><td>0.14583</td><td>0.0</td><td>0.03472</td><td>0.0</td><td>0.0</td><td>0.80556</td><td>0.19444</td><td>0.0</td><td>0.0</td><td>0.0</td><td>0.0</td><td>0.0</td><td>0.0</td><td>1</td><td>6</td><td>null</td><td>0</td></tr><tr><td>&quot;11011203_1_0&quot;</td><td>false</td><td>3</td><td>12</td><td>0.0</td><td>0.90972</td><td>0.0</td><td>0.0</td><td>0.0</td><td>0.0</td><td>0.04167</td><td>0.0</td><td>0.04861</td><td>0.90972</td><td>0.09028</td><td>0.0</td><td>0.41667</td><td>0.0</td><td>0.91667</td><td>0.0</td><td>0.08333</td><td>1</td><td>19</td><td>1</td><td>6</td></tr></tbody></table></div>"
      ],
      "text/plain": [
       "shape: (5, 25)\n",
       "┌──────────────┬─────────┬──────────┬───────┬───┬─────┬────────┬────────┬─────────┐\n",
       "│ uid          ┆ weekday ┆ day_type ┆ month ┆ … ┆ sex ┆ age35g ┆ nssec8 ┆ pwkstat │\n",
       "│ ---          ┆ ---     ┆ ---      ┆ ---   ┆   ┆ --- ┆ ---    ┆ ---    ┆ ---     │\n",
       "│ str          ┆ bool    ┆ i32      ┆ u32   ┆   ┆ i32 ┆ u32    ┆ i32    ┆ i32     │\n",
       "╞══════════════╪═════════╪══════════╪═══════╪═══╪═════╪════════╪════════╪═════════╡\n",
       "│ 11011202_1_0 ┆ false   ┆ 3        ┆ 12    ┆ … ┆ 2   ┆ 13     ┆ 4      ┆ 1       │\n",
       "│ 11011202_1_1 ┆ true    ┆ 3        ┆ 12    ┆ … ┆ 2   ┆ 13     ┆ 4      ┆ 1       │\n",
       "│ 11011202_4_1 ┆ true    ┆ 2        ┆ 12    ┆ … ┆ 1   ┆ 6      ┆ null   ┆ 0       │\n",
       "│ 11011202_4_0 ┆ false   ┆ 3        ┆ 12    ┆ … ┆ 1   ┆ 6      ┆ null   ┆ 0       │\n",
       "│ 11011203_1_0 ┆ false   ┆ 3        ┆ 12    ┆ … ┆ 1   ┆ 19     ┆ 1      ┆ 6       │\n",
       "└──────────────┴─────────┴──────────┴───────┴───┴─────┴────────┴────────┴─────────┘"
      ]
     },
     "execution_count": 13,
     "metadata": {},
     "output_type": "execute_result"
    }
   ],
   "source": [
    "spc.time_use_diaries.head()"
   ]
  },
  {
   "cell_type": "code",
   "execution_count": 14,
   "metadata": {},
   "outputs": [
    {
     "name": "stdout",
     "output_type": "stream",
     "text": [
      "Shape: (16406, 25)\n"
     ]
    },
    {
     "data": {
      "text/plain": [
       "{'uid': Utf8,\n",
       " 'weekday': Boolean,\n",
       " 'day_type': Int32,\n",
       " 'month': UInt32,\n",
       " 'pworkhome': Float32,\n",
       " 'phomeother': Float32,\n",
       " 'pwork': Float32,\n",
       " 'pschool': Float32,\n",
       " 'pshop': Float32,\n",
       " 'pservices': Float32,\n",
       " 'pleisure': Float32,\n",
       " 'pescort': Float32,\n",
       " 'ptransport': Float32,\n",
       " 'phome_total': Float32,\n",
       " 'pnothome_total': Float32,\n",
       " 'punknown_total': Float32,\n",
       " 'pmwalk': Float32,\n",
       " 'pmcycle': Float32,\n",
       " 'pmprivate': Float32,\n",
       " 'pmpublic': Float32,\n",
       " 'pmunknown': Float32,\n",
       " 'sex': Int32,\n",
       " 'age35g': UInt32,\n",
       " 'nssec8': Int32,\n",
       " 'pwkstat': Int32}"
      ]
     },
     "execution_count": 14,
     "metadata": {},
     "output_type": "execute_result"
    }
   ],
   "source": [
    "spc.summary(\"time_use_diaries\")"
   ]
  },
  {
   "cell_type": "markdown",
   "metadata": {},
   "source": [
    "Show info per MSOA field (expand an example MSOA)\n"
   ]
  },
  {
   "cell_type": "code",
   "execution_count": 15,
   "metadata": {},
   "outputs": [
    {
     "data": {
      "text/plain": [
       "dict_keys(['shape', 'population', 'buildings', 'flows_per_activity'])"
      ]
     },
     "execution_count": 15,
     "metadata": {},
     "output_type": "execute_result"
    }
   ],
   "source": [
    "spc.info_per_msoa[\"E02003599\"].keys()"
   ]
  },
  {
   "cell_type": "code",
   "execution_count": 16,
   "metadata": {},
   "outputs": [
    {
     "data": {
      "text/plain": [
       "{'Retail': [[72, 0.06177841497339429],\n",
       "  [247, 0.06622072185605729],\n",
       "  [184, 0.07630052903052226],\n",
       "  [183, 0.0771462508847894],\n",
       "  [175, 0.08113124206861183],\n",
       "  [267, 0.11633072727982427],\n",
       "  [133, 0.1230479366872526],\n",
       "  [232, 0.1231150262857044],\n",
       "  [284, 0.13170621279841377],\n",
       "  [283, 0.1432229381354299]],\n",
       " 'PrimarySchool': [[178, 0.13814641302356995],\n",
       "  [179, 0.14537334287820983],\n",
       "  [182, 0.21869223135912264],\n",
       "  [175, 0.23110298864401183],\n",
       "  [186, 0.2666850240950859]],\n",
       " 'SecondarySchool': [[183, 0.15960860948551311],\n",
       "  [146, 0.1653416912282451],\n",
       "  [36, 0.18151687347509643],\n",
       "  [49, 0.22015909562603916],\n",
       "  [230, 0.27337373018510625]],\n",
       " 'Home': [],\n",
       " 'Work': []}"
      ]
     },
     "execution_count": 16,
     "metadata": {},
     "output_type": "execute_result"
    }
   ],
   "source": [
    "msoas = list(spc.info_per_msoa.keys())\n",
    "spc.info_per_msoa[msoas[0]][\"flows_per_activity\"]"
   ]
  },
  {
   "cell_type": "markdown",
   "metadata": {},
   "source": [
    "### Plot venues in region\n"
   ]
  },
  {
   "cell_type": "code",
   "execution_count": 17,
   "metadata": {},
   "outputs": [
    {
     "name": "stdout",
     "output_type": "stream",
     "text": [
      "shape: (962, 5)\n",
      "┌─────┬─────────────────┬───────────┬───────────┬────────┐\n",
      "│ id  ┆ activity        ┆ longitude ┆ latitude  ┆ urn    │\n",
      "│ --- ┆ ---             ┆ ---       ┆ ---       ┆ ---    │\n",
      "│ u64 ┆ str             ┆ f32       ┆ f32       ┆ str    │\n",
      "╞═════╪═════════════════╪═══════════╪═══════════╪════════╡\n",
      "│ 0   ┆ Retail          ┆ -0.203788 ┆ 51.981995 ┆ null   │\n",
      "│ 1   ┆ Retail          ┆ -0.522467 ┆ 51.903172 ┆ null   │\n",
      "│ 2   ┆ Retail          ┆ -1.28335  ┆ 51.669636 ┆ null   │\n",
      "│ 3   ┆ Retail          ┆ -1.279668 ┆ 51.672077 ┆ null   │\n",
      "│ …   ┆ …               ┆ …         ┆ …         ┆ …      │\n",
      "│ 227 ┆ SecondarySchool ┆ -0.588381 ┆ 51.520817 ┆ 146820 │\n",
      "│ 228 ┆ SecondarySchool ┆ -0.917678 ┆ 51.454231 ┆ 110062 │\n",
      "│ 229 ┆ SecondarySchool ┆ -1.058186 ┆ 51.455093 ┆ 110063 │\n",
      "│ 230 ┆ SecondarySchool ┆ -0.290272 ┆ 52.13784  ┆ 109669 │\n",
      "└─────┴─────────────────┴───────────┴───────────┴────────┘\n"
     ]
    },
    {
     "data": {
      "application/vnd.plotly.v1+json": {
       "config": {
        "plotlyServerURL": "https://plot.ly"
       },
       "data": [
        {
         "hovertemplate": "activity=Retail<br>latitude=%{lat}<br>longitude=%{lon}<extra></extra>",
         "lat": [
          51.98199462890625,
          51.90317153930664,
          51.66963577270508,
          51.67207717895508,
          51.667030334472656,
          51.52030944824219,
          52.1626091003418,
          51.44303512573242,
          51.60727310180664,
          51.88901138305664,
          52.38774108886719,
          51.90398406982422,
          51.97841262817383,
          51.60072708129883,
          52.091922760009766,
          51.612213134765625,
          51.60964584350586,
          51.427734375,
          51.6661376953125,
          51.808258056640625,
          51.508140563964844,
          51.80202102661133,
          52.34344482421875,
          51.657630920410156,
          52.78365707397461,
          51.70703125,
          51.70750045776367,
          51.59738540649414,
          52.22797393798828,
          52.00356674194336,
          51.515464782714844,
          51.726802825927734,
          52.23957824707031,
          52.65639114379883,
          51.82401657104492,
          51.823333740234375,
          52.2994499206543,
          52.256813049316406,
          52.25456619262695,
          51.77434539794922,
          52.57491683959961,
          52.56899642944336,
          52.207088470458984,
          52.239234924316406,
          51.63206100463867,
          51.62995529174805,
          51.78749084472656,
          51.78584671020508,
          51.784786224365234,
          51.53879165649414,
          52.32233810424805,
          52.022762298583984,
          52.25634765625,
          52.25787353515625,
          52.257083892822266,
          52.33170700073242,
          52.20595932006836,
          52.550559997558594,
          52.55027389526367,
          51.60649108886719,
          51.607025146484375,
          51.60659408569336,
          51.607627868652344,
          52.557186126708984,
          52.557228088378906,
          52.60342025756836,
          52.60137176513672,
          51.94155502319336,
          51.9409294128418,
          52.34321594238281,
          52.34248733520508,
          52.026878356933594,
          52.12887191772461,
          52.21905517578125,
          52.64950942993164,
          52.651275634765625,
          52.6694450378418,
          52.65300750732422,
          51.747528076171875,
          51.905548095703125,
          52.507057189941406,
          52.49650955200195,
          52.484798431396484,
          51.46721267700195,
          51.778343200683594,
          51.77643966674805,
          52.08645248413086,
          51.588863372802734,
          52.59990310668945,
          52.00282287597656,
          52.2154655456543,
          52.59984588623047,
          52.6035270690918,
          52.2913703918457,
          51.478309631347656,
          51.650428771972656,
          51.55854034423828,
          51.90393829345703,
          52.545814514160156,
          51.82352828979492,
          52.6673583984375,
          52.11736297607422,
          52.25890350341797,
          52.65341567993164,
          52.5369987487793,
          51.760772705078125,
          52.20935821533203,
          51.916866302490234,
          51.91842269897461,
          51.915077209472656,
          52.5407600402832,
          51.4990348815918,
          51.91790771484375,
          51.9168815612793,
          52.0735969543457,
          52.07406234741211,
          52.07080078125,
          51.72175598144531,
          52.476837158203125,
          51.559104919433594,
          51.52427673339844,
          52.2618408203125,
          52.26253890991211,
          52.00693130493164,
          52.429283142089844,
          51.7227783203125,
          51.61394119262695,
          51.61137771606445,
          52.33620834350586,
          52.48748779296875,
          52.35085678100586,
          51.54866027832031,
          51.57176971435547,
          52.129764556884766,
          52.37651824951172,
          51.44061279296875,
          51.60513687133789,
          51.684635162353516,
          52.333274841308594,
          52.352813720703125,
          51.551090240478516,
          52.063819885253906,
          52.330692291259766,
          52.33039855957031,
          52.4095458984375,
          51.87376022338867,
          51.81989288330078,
          51.835208892822266,
          52.07486343383789,
          52.47737121582031,
          51.898338317871094,
          51.89873123168945,
          51.8978385925293,
          51.897605895996094,
          51.89105987548828,
          51.88956069946289,
          52.23295211791992,
          52.23826599121094,
          51.64101028442383,
          52.07757568359375,
          51.754371643066406,
          51.52313995361328,
          51.817813873291016,
          51.81958770751953,
          51.817115783691406,
          51.398643493652344,
          52.29225158691406,
          52.217777252197266,
          51.43410873413086,
          51.73630142211914,
          51.8234748840332,
          51.815006256103516,
          52.37261199951172,
          51.82388687133789,
          51.821327209472656,
          52.142024993896484,
          52.40282440185547,
          52.405216217041016,
          52.40061569213867,
          52.57548141479492,
          51.92074203491211,
          52.289939880371094,
          52.29473876953125,
          52.122047424316406,
          52.145511627197266,
          52.059730529785156,
          52.056854248046875,
          52.05061721801758,
          51.45856857299805,
          51.607017517089844,
          51.6043586730957,
          52.48885726928711,
          52.48811721801758,
          51.634830474853516,
          51.515625,
          51.576969146728516,
          52.35992431640625,
          52.21135711669922,
          51.679630279541016,
          51.56787872314453,
          52.30195999145508,
          52.30091094970703,
          52.243797302246094,
          52.25184631347656,
          52.29084396362305,
          52.58749771118164,
          51.72566223144531,
          51.7518196105957,
          51.75305938720703,
          51.741371154785156,
          51.733890533447266,
          51.5580940246582,
          52.23927688598633,
          51.88280487060547,
          52.0364875793457,
          52.039405822753906,
          52.0007209777832,
          52.03641128540039,
          51.589996337890625,
          52.654415130615234,
          51.55524826049805,
          52.2286376953125,
          52.22859573364258,
          51.74842071533203,
          52.00050354003906,
          51.98904037475586,
          51.879356384277344,
          51.98936080932617,
          52.470977783203125,
          51.76192092895508,
          52.59138107299805,
          52.47688293457031,
          52.21017074584961,
          51.98911666870117,
          52.5560302734375,
          52.17159652709961,
          52.210693359375,
          52.22775650024414,
          52.208621978759766,
          52.75796890258789,
          51.77889633178711,
          51.77949142456055,
          51.50726318359375,
          52.25151443481445,
          51.51057434082031,
          52.738861083984375,
          52.266910552978516,
          51.98513412475586,
          51.60487365722656,
          52.186824798583984,
          52.398773193359375,
          52.39128875732422,
          52.44425582885742,
          51.75750732421875,
          51.76373291015625,
          51.75847625732422,
          52.39906311035156,
          52.460235595703125,
          52.65226364135742,
          52.138572692871094,
          52.130245208740234,
          51.94390106201172,
          51.52731704711914,
          52.02314376831055,
          52.24681854248047,
          52.245635986328125,
          52.05925750732422,
          52.12233352661133,
          51.65168380737305,
          52.03322982788086,
          51.65094757080078,
          51.79385757446289,
          52.239070892333984,
          51.82984924316406,
          52.217079162597656,
          52.333091735839844,
          52.083404541015625,
          52.0850944519043,
          52.55125045776367,
          52.56174850463867,
          52.54836654663086,
          52.46411895751953,
          52.08513641357422,
          52.08848190307617,
          52.093379974365234,
          52.277191162109375,
          52.341407775878906,
          52.351688385009766,
          52.806339263916016,
          51.889129638671875,
          52.19911193847656,
          51.89810562133789,
          51.814884185791016,
          51.81637191772461,
          52.062740325927734,
          51.449039459228516,
          51.92447280883789,
          51.81733703613281,
          51.95009994506836,
          51.95121383666992,
          52.25417709350586,
          51.46006393432617,
          51.50068664550781,
          51.73322296142578,
          52.40018844604492,
          52.40034103393555,
          51.8890266418457,
          51.651641845703125,
          52.03865432739258,
          52.738006591796875,
          51.522605895996094,
          52.257286071777344,
          52.456905364990234,
          52.26111602783203,
          52.03764343261719,
          51.5968017578125,
          51.80892562866211,
          51.74134063720703,
          52.45600891113281,
          52.0589599609375,
          52.25579833984375,
          51.88702392578125,
          52.34938049316406,
          52.2194709777832,
          52.24098205566406,
          51.75849914550781,
          52.138179779052734,
          51.94577407836914,
          52.04785919189453,
          51.7489013671875,
          51.74732971191406,
          51.42482376098633,
          52.228355407714844,
          51.74763488769531,
          51.46574401855469,
          52.03233337402344,
          51.8204231262207,
          51.52476501464844,
          51.76228713989258
         ],
         "legendgroup": "Retail",
         "lon": [
          -0.2037878930568695,
          -0.5224674344062805,
          -1.2833501100540161,
          -1.2796679735183716,
          -1.309456467628479,
          -0.6689822673797607,
          -0.7001817226409912,
          -1.0614842176437378,
          -1.4302204847335815,
          -0.5124434232711792,
          -1.256068468093872,
          -0.20459023118019104,
          -0.23081044852733612,
          -1.1252552270889282,
          0.41334959864616394,
          -0.6463627815246582,
          -0.6430769562721252,
          -0.8774676322937012,
          -0.6113715171813965,
          -1.6366289854049683,
          -0.5791126489639282,
          -0.8219161629676819,
          -0.07597889751195908,
          -1.5847229957580566,
          0.12127411365509033,
          -0.6109768748283386,
          -0.6119086742401123,
          -1.8050693273544312,
          -0.2705967426300049,
          -0.7942880988121033,
          -0.4033356308937073,
          -1.2029399871826172,
          -0.9374004602432251,
          -0.46552154421806335,
          -1.2876354455947876,
          -1.2885806560516357,
          -0.6195858120918274,
          -0.835576057434082,
          0.018168877810239792,
          -1.492559790611267,
          -0.2412354201078415,
          -0.24415229260921478,
          0.11941663175821304,
          -0.8950262665748596,
          -0.7548537254333496,
          -0.7548919916152954,
          -1.4867773056030273,
          -1.4854943752288818,
          -1.4833083152770996,
          -0.9055396318435669,
          -0.069044329226017,
          0.2419588416814804,
          -1.1636383533477783,
          -1.1640665531158447,
          -1.1610702276229858,
          -0.18158160150051117,
          0.14543947577476501,
          0.08839860558509827,
          0.0901355892419815,
          -1.2415885925292969,
          -1.2391330003738403,
          -1.2440674304962158,
          -1.2384707927703857,
          -0.12705357372760773,
          -0.12629581987857819,
          0.3756868839263916,
          0.3770527243614197,
          -1.5461536645889282,
          -1.544809341430664,
          0.5115833878517151,
          0.5128387212753296,
          -1.1511681079864502,
          -0.28845149278640747,
          -0.0692601352930069,
          0.1743536740541458,
          0.1420258730649948,
          0.1551072597503662,
          -0.475837379693985,
          -0.9791631698608398,
          -0.21850185096263885,
          -0.70399409532547,
          -0.6811509132385254,
          -0.6868119835853577,
          -0.9735953211784363,
          -1.265657901763916,
          -1.2641161680221558,
          -0.26346534490585327,
          -1.424957513809204,
          -0.26690223813056946,
          -0.49809691309928894,
          -0.9110604524612427,
          -1.1778852939605713,
          -1.0857526063919067,
          -0.5995989441871643,
          -0.8658875226974487,
          -1.575472354888916,
          -0.39984047412872314,
          -1.133284330368042,
          -0.21310965716838837,
          -0.8307177424430847,
          0.15721850097179413,
          -0.4959591329097748,
          -0.8729998469352722,
          0.14738842844963074,
          -0.25798049569129944,
          -1.2107748985290527,
          -0.8927722573280334,
          -0.6615155339241028,
          -0.6693839430809021,
          -0.6561064124107361,
          -0.2630539834499359,
          -0.40772777795791626,
          -0.6679233312606812,
          -0.6640364527702332,
          -1.343273639678955,
          -1.3392339944839478,
          -1.3461618423461914,
          -1.232358694076538,
          -0.9144505262374878,
          -1.8281867504119873,
          -0.7182656526565552,
          -0.9015209674835205,
          -0.9012390971183777,
          -0.7310038805007935,
          -1.4325265884399414,
          -0.8297467827796936,
          -0.7628870606422424,
          -0.7803454399108887,
          -0.1910867989063263,
          -0.7025763988494873,
          -1.2737915515899658,
          -0.4746769070625305,
          -0.7778753042221069,
          -0.451142817735672,
          -0.7216007709503174,
          -0.9710755944252014,
          -1.221516489982605,
          -1.2662535905838013,
          -0.19025801122188568,
          -0.18006928265094757,
          -1.7739390134811401,
          -0.8096901178359985,
          -0.1838994026184082,
          -0.18086828291416168,
          -0.7340548634529114,
          -1.481600284576416,
          -0.7905992269515991,
          -0.8202272057533264,
          -1.3554542064666748,
          -0.9141244292259216,
          -1.150893211364746,
          -1.1408461332321167,
          -1.150193214416504,
          -1.1517494916915894,
          -1.15932035446167,
          -0.485047847032547,
          -0.8952115178108215,
          -0.8929392099380493,
          -0.46908020973205566,
          -1.3188637495040894,
          -1.259432315826416,
          -0.7145931124687195,
          -0.8126199841499329,
          -0.8078209161758423,
          -0.8098183870315552,
          -1.3194971084594727,
          -0.7205719947814941,
          0.08752887696027756,
          -0.9705325365066528,
          -0.4654422104358673,
          -1.28952157497406,
          -0.8169525861740112,
          -1.2645165920257568,
          -0.8365400433540344,
          -0.83686763048172,
          -0.42485132813453674,
          -0.7271038293838501,
          -0.7355868220329285,
          -0.7312567830085754,
          -0.25001633167266846,
          -0.4353856146335602,
          -0.5944697260856628,
          -0.6000000238418579,
          -0.47407978773117065,
          -0.4858036935329437,
          -1.3390151262283325,
          -1.332720398902893,
          -1.3333847522735596,
          -0.9988560676574707,
          -1.231251835823059,
          -1.271611213684082,
          -0.701267659664154,
          -0.7021703720092773,
          -0.7541805505752563,
          -0.47732406854629517,
          -1.7285575866699219,
          -1.2276746034622192,
          0.14341065287590027,
          -0.38985878229141235,
          -1.7705094814300537,
          -0.6891615986824036,
          -0.6957724094390869,
          0.709083616733551,
          0.6907878518104553,
          -0.6844573020935059,
          -0.2123703807592392,
          -0.8338077068328857,
          -1.2892277240753174,
          -1.2804899215698242,
          -1.1972267627716064,
          -1.21750009059906,
          -1.8105146884918213,
          0.7376766800880432,
          -0.4231471121311188,
          -0.6871960759162903,
          -0.6895900964736938,
          -0.7253780364990234,
          -0.76152104139328,
          -1.4265612363815308,
          0.14979010820388794,
          -1.7334033250808716,
          -0.26647794246673584,
          -0.27010130882263184,
          -0.4578029215335846,
          -0.9848597049713135,
          -0.9778009057044983,
          -0.4135754704475403,
          -0.9813128709793091,
          -0.7197093963623047,
          -0.5666013956069946,
          -0.2839491367340088,
          -0.917529821395874,
          -0.2698141038417816,
          -0.9901823401451111,
          -0.2286219596862793,
          0.1108885109424591,
          -0.2891367971897125,
          -0.28686535358428955,
          -0.29065534472465515,
          0.4176013469696045,
          -1.4932847023010254,
          -1.48282790184021,
          -0.6302153468132019,
          -0.8478488326072693,
          -0.5907291769981384,
          0.41843506693840027,
          -1.1664482355117798,
          -0.1862303912639618,
          -0.6926479339599609,
          0.18810811638832092,
          0.2724328637123108,
          0.26509642601013184,
          -0.817775547504425,
          -1.5946564674377441,
          -1.5812219381332397,
          -1.593528151512146,
          0.26969340443611145,
          0.30183830857276917,
          -0.4851873219013214,
          -0.9945704936981201,
          -0.9890896081924438,
          -1.5356999635696411,
          -0.8936310410499573,
          -1.1518349647521973,
          0.4082085192203522,
          0.4080318808555603,
          -0.03289259970188141,
          -0.281809538602829,
          -1.5812599658966064,
          -0.4939708709716797,
          -1.574689269065857,
          -0.6540281772613525,
          0.1542946845293045,
          -1.2995026111602783,
          -0.08300872892141342,
          0.33745554089546204,
          0.4412234425544739,
          0.4388751685619354,
          0.08483130484819412,
          0.06955340504646301,
          0.08737807720899582,
          0.04561329632997513,
          -0.2639314532279968,
          -0.26497629284858704,
          -0.273403137922287,
          0.32794371247291565,
          -0.5391566157341003,
          -0.5483471751213074,
          0.013362763449549675,
          -0.5205188989639282,
          0.15754194557666779,
          -0.20149393379688263,
          -0.8081690073013306,
          -0.8003345727920532,
          -1.333903193473816,
          -1.0171821117401123,
          -0.2196686565876007,
          -0.8109754920005798,
          -0.2819676995277405,
          -0.2752645015716553,
          0.7152461409568787,
          -0.9559289813041687,
          -0.42559680342674255,
          -1.218834400177002,
          0.2671545743942261,
          0.26644226908683777,
          -0.3727337121963501,
          -0.3876565098762512,
          -0.7142564654350281,
          0.4100120961666107,
          -0.6768385767936707,
          -1.1592144966125488,
          0.30546513199806213,
          0.3962511718273163,
          -0.3334045112133026,
          -1.1371997594833374,
          -1.277584433555603,
          -1.1168888807296753,
          -0.11263144761323929,
          -1.3377639055252075,
          -0.9015173316001892,
          -0.5186722874641418,
          0.003923091571778059,
          0.11048730462789536,
          -0.9150705933570862,
          -1.597283124923706,
          -0.9966035485267639,
          -1.5377315282821655,
          -0.025167904794216156,
          -0.9780376553535461,
          -0.9785999655723572,
          -0.93276047706604,
          -0.2635572552680969,
          -1.2355238199234009,
          -1.019229769706726,
          -0.7707746624946594,
          -0.8079589009284973,
          -0.38506340980529785,
          -0.7442566752433777
         ],
         "marker": {
          "color": "#636efa"
         },
         "mode": "markers",
         "name": "Retail",
         "showlegend": true,
         "subplot": "mapbox",
         "type": "scattermapbox"
        },
        {
         "hovertemplate": "activity=PrimarySchool<br>latitude=%{lat}<br>longitude=%{lon}<extra></extra>",
         "lat": [
          52.78705596923828,
          52.67757797241211,
          52.67124557495117,
          52.67011260986328,
          52.669769287109375,
          52.661102294921875,
          52.654624938964844,
          52.6515998840332,
          52.60738754272461,
          52.579193115234375,
          52.558658599853516,
          52.56145477294922,
          52.55537796020508,
          52.556636810302734,
          52.556121826171875,
          52.55165100097656,
          52.54619598388672,
          52.542293548583984,
          52.546905517578125,
          52.54117202758789,
          52.53840637207031,
          52.53327560424805,
          52.52027893066406,
          52.500492095947266,
          52.49860382080078,
          52.49720001220703,
          52.49544143676758,
          52.49128723144531,
          52.49030303955078,
          52.48707580566406,
          52.48429489135742,
          52.474117279052734,
          52.45787811279297,
          52.47209930419922,
          52.467559814453125,
          52.456295013427734,
          52.45570755004883,
          52.449920654296875,
          52.44972610473633,
          52.44806671142578,
          52.44192886352539,
          52.41118240356445,
          52.424835205078125,
          52.408084869384766,
          52.423805236816406,
          52.40732955932617,
          52.407405853271484,
          52.41819763183594,
          52.406333923339844,
          52.39595031738281,
          52.39451599121094,
          52.39631652832031,
          52.392974853515625,
          52.39235305786133,
          52.38990783691406,
          52.383235931396484,
          52.38087463378906,
          52.380794525146484,
          52.352272033691406,
          52.34796905517578,
          52.35047912597656,
          52.362552642822266,
          52.366939544677734,
          52.35979461669922,
          52.3594970703125,
          52.3361930847168,
          52.343772888183594,
          52.34278869628906,
          52.34622573852539,
          52.33842468261719,
          52.33658218383789,
          52.337947845458984,
          52.34272766113281,
          52.3377799987793,
          52.32804489135742,
          52.32960891723633,
          52.32925796508789,
          52.32177734375,
          52.322357177734375,
          52.32652282714844,
          52.325828552246094,
          52.31409454345703,
          52.32624816894531,
          52.311458587646484,
          52.31467819213867,
          52.31406784057617,
          52.312808990478516,
          52.30794143676758,
          52.305259704589844,
          52.299293518066406,
          52.28689193725586,
          52.297264099121094,
          52.28638458251953,
          52.29412841796875,
          52.294898986816406,
          52.277889251708984,
          52.28883361816406,
          52.290035247802734,
          52.28409957885742,
          52.280174255371094,
          52.27989959716797,
          52.256893157958984,
          52.27534484863281,
          52.27467727661133,
          52.27406692504883,
          52.26864242553711,
          52.24913787841797,
          52.26790237426758,
          52.25324630737305,
          52.26432418823242,
          52.253265380859375,
          52.24449920654297,
          52.2629280090332,
          52.26264572143555,
          52.243343353271484,
          52.26455307006836,
          52.26403045654297,
          52.26066589355469,
          52.25858688354492,
          52.25776290893555,
          52.257442474365234,
          52.25631332397461,
          52.256065368652344,
          52.25434875488281,
          52.25717544555664,
          52.25468444824219,
          52.256141662597656,
          52.252994537353516,
          52.25259017944336,
          52.254337310791016,
          52.249263763427734,
          52.250247955322266,
          52.24785232543945,
          52.24494934082031,
          52.24485778808594,
          52.24230194091797,
          52.22795867919922,
          52.24201965332031,
          52.24059295654297,
          52.232425689697266,
          52.23248291015625,
          52.23248291015625,
          52.23158645629883,
          52.2315559387207,
          52.2249755859375,
          52.239498138427734,
          52.222938537597656,
          52.22206497192383,
          52.2337532043457,
          52.218448638916016,
          52.21958923339844,
          52.2162971496582,
          52.22165298461914,
          52.21759033203125,
          52.219478607177734,
          52.21426010131836,
          52.21529006958008,
          52.22629928588867,
          52.224700927734375,
          52.20866775512695,
          52.22216033935547,
          52.22126770019531,
          52.2047119140625,
          52.21632766723633,
          52.21240997314453,
          52.210269927978516,
          52.189876556396484,
          52.203365325927734,
          52.18675231933594,
          52.186485290527344,
          52.181297302246094,
          52.177146911621094,
          52.170406341552734,
          52.13179016113281,
          52.14249801635742,
          52.13264465332031,
          52.12415313720703,
          52.13046646118164,
          52.12943649291992,
          52.12605285644531,
          52.124237060546875,
          52.12868118286133,
          52.12251663208008,
          52.126529693603516,
          52.08308410644531,
          52.08265686035156,
          52.09001541137695,
          52.08865737915039,
          52.0829963684082,
          52.08797073364258,
          52.07537078857422,
          52.07810974121094,
          52.05954360961914,
          52.068992614746094,
          52.060890197753906,
          52.06356430053711,
          52.05120849609375,
          52.05110549926758,
          52.05016326904297,
          52.06411361694336,
          52.061588287353516,
          52.059322357177734,
          52.05155944824219,
          52.05618667602539,
          52.05488586425781,
          52.04264831542969,
          52.044742584228516,
          52.035484313964844,
          52.04121780395508,
          52.038612365722656,
          52.04111862182617,
          52.04118347167969,
          52.0340461730957,
          52.03776550292969,
          52.02741622924805,
          52.02676010131836,
          52.03011703491211,
          52.03194046020508,
          52.016456604003906,
          52.025657653808594,
          52.011436462402344,
          52.009422302246094,
          51.998939514160156,
          52.005699157714844,
          52.00051498413086,
          51.990943908691406,
          51.99640655517578,
          51.9955940246582,
          51.99351501464844,
          51.992698669433594,
          51.98814010620117,
          51.987483978271484,
          51.97520446777344,
          51.95906066894531,
          51.950714111328125,
          51.945804595947266,
          51.94386291503906,
          51.93717575073242,
          51.91950607299805,
          51.92049789428711,
          51.919456481933594,
          51.917972564697266,
          51.91639709472656,
          51.91436767578125,
          51.91913986206055,
          51.910682678222656,
          51.90653610229492,
          51.91240692138672,
          51.909725189208984,
          51.909210205078125,
          51.90146255493164,
          51.90127944946289,
          51.90604782104492,
          51.901126861572266,
          51.89127731323242,
          51.890445709228516,
          51.88637924194336,
          51.88645935058594,
          51.89196014404297,
          51.89096450805664,
          51.87636184692383,
          51.87322235107422,
          51.860076904296875,
          51.84811782836914,
          51.82837677001953,
          51.824806213378906,
          51.82412338256836,
          51.824337005615234,
          51.81509780883789,
          51.81639862060547,
          51.816001892089844,
          51.810089111328125,
          51.80464553833008,
          51.80839157104492,
          51.80201721191406,
          51.80190658569336,
          51.80157470703125,
          51.79252243041992,
          51.78736114501953,
          51.78641128540039,
          51.78401184082031,
          51.78425598144531,
          51.782901763916016,
          51.78071212768555,
          51.767757415771484,
          51.77137756347656,
          51.76884841918945,
          51.76982879638672,
          51.76789093017578,
          51.758426666259766,
          51.7642822265625,
          51.763668060302734,
          51.76285171508789,
          51.759971618652344,
          51.75151443481445,
          51.756385803222656,
          51.758216857910156,
          51.7578239440918,
          51.753482818603516,
          51.751426696777344,
          51.74892807006836,
          51.74859619140625,
          51.744903564453125,
          51.74250411987305,
          51.740386962890625,
          51.739376068115234,
          51.73841094970703,
          51.73646926879883,
          51.72931671142578,
          51.728111267089844,
          51.72600173950195,
          51.72251892089844,
          51.7160758972168,
          51.721214294433594,
          51.713924407958984,
          51.71940231323242,
          51.71208190917969,
          51.7172737121582,
          51.70294189453125,
          51.701141357421875,
          51.70230484008789,
          51.68345260620117,
          51.68284225463867,
          51.676368713378906,
          51.681373596191406,
          51.680213928222656,
          51.677120208740234,
          51.66984939575195,
          51.67031478881836,
          51.664756774902344,
          51.66477584838867,
          51.65958023071289,
          51.65856170654297,
          51.658302307128906,
          51.64839172363281,
          51.63970947265625,
          51.63772964477539,
          51.634033203125,
          51.632198333740234,
          51.625831604003906,
          51.61248779296875,
          51.615760803222656,
          51.6102294921875,
          51.608367919921875,
          51.613014221191406,
          51.61084747314453,
          51.609901428222656,
          51.604515075683594,
          51.610198974609375,
          51.607975006103516,
          51.6059455871582,
          51.60264205932617,
          51.60237503051758,
          51.60161209106445,
          51.59579086303711,
          51.59830093383789,
          51.597354888916016,
          51.58846664428711,
          51.59288787841797,
          51.59236526489258,
          51.58450698852539,
          51.58091735839844,
          51.58445358276367,
          51.57727813720703,
          51.569923400878906,
          51.56119155883789,
          51.558837890625,
          51.541534423828125,
          51.54041290283203,
          51.53390884399414,
          51.533233642578125,
          51.53130340576172,
          51.53300094604492,
          51.53276443481445,
          51.52725601196289,
          51.52694320678711,
          51.523651123046875,
          51.51762008666992,
          51.51923370361328,
          51.517860412597656,
          51.516632080078125,
          51.51148223876953,
          51.507530212402344,
          51.50514602661133,
          51.498165130615234,
          51.47340393066406,
          51.456546783447266,
          51.45573806762695,
          51.44940185546875,
          51.44850540161133,
          51.44200897216797,
          51.43038558959961
         ],
         "legendgroup": "PrimarySchool",
         "lon": [
          0.11493363231420517,
          0.16541080176830292,
          0.15276183187961578,
          0.1739307940006256,
          0.17440193891525269,
          0.16852976381778717,
          -0.5061507821083069,
          -0.4859420359134674,
          -0.4431923031806946,
          -0.2463628351688385,
          0.08814434707164764,
          -0.11755131185054779,
          0.07991927117109299,
          -0.1352384388446808,
          -0.31633374094963074,
          -0.22138336300849915,
          0.08460291475057602,
          0.0975136086344719,
          -0.2150416523218155,
          -0.3001246154308319,
          -0.2735719084739685,
          -0.27439239621162415,
          -0.25932231545448303,
          -0.7031185030937195,
          -0.7087867259979248,
          -0.717563271522522,
          -0.6966385245323181,
          -0.4754282832145691,
          -0.7240824103355408,
          -0.7293744683265686,
          -0.695907711982727,
          -0.7024511694908142,
          0.292256236076355,
          -0.733486533164978,
          -0.7047048807144165,
          0.043792448937892914,
          0.05646719038486481,
          0.2950512170791626,
          -0.11110562086105347,
          -0.11017600446939468,
          -0.8172112107276917,
          0.2649247348308563,
          -0.8007268309593201,
          0.27735182642936707,
          -0.8021224141120911,
          0.27641603350639343,
          0.25968822836875916,
          -0.7200915217399597,
          -0.0827186107635498,
          0.24513870477676392,
          -0.5348193049430847,
          -0.7110833525657654,
          -0.698277473449707,
          -0.6981341242790222,
          -1.245069980621338,
          -0.679477870464325,
          -0.6926683783531189,
          -1.3024630546569824,
          0.5144319534301758,
          0.5130422115325928,
          0.32507824897766113,
          -0.6854549646377563,
          -1.2677414417266846,
          -1.238710880279541,
          -1.2120198011398315,
          0.33905211091041565,
          -0.17815034091472626,
          -0.17096802592277527,
          -0.5412610173225403,
          -0.07463348656892776,
          -0.08834996074438095,
          -0.18010710179805756,
          -0.5296764373779297,
          -0.19422028958797455,
          0.3389891982078552,
          -0.07484028488397598,
          -0.072551429271698,
          -0.17460787296295166,
          -0.23269128799438477,
          -0.6151334643363953,
          -0.6155367493629456,
          0.01748693734407425,
          -0.9059488773345947,
          0.05879635736346245,
          -0.7091723680496216,
          -0.6936987042427063,
          -0.5978699922561646,
          -0.6843888759613037,
          -0.7220451831817627,
          -0.724094033241272,
          0.11931269615888596,
          -0.7050301432609558,
          0.05393870547413826,
          -0.5929170846939087,
          -0.7116976380348206,
          0.32624584436416626,
          -0.7012879252433777,
          -0.8547479510307312,
          -0.6085107326507568,
          -0.5846077799797058,
          -0.5991727113723755,
          0.38834601640701294,
          -0.8839859962463379,
          -0.9097398519515991,
          -1.1606851816177368,
          -0.8533941507339478,
          0.40750283002853394,
          -0.8699141144752502,
          0.10858060419559479,
          -0.7505509853363037,
          0.021757906302809715,
          0.39604488015174866,
          -0.8520175814628601,
          -0.8462809920310974,
          0.41114434599876404,
          -1.1642056703567505,
          -1.1644206047058105,
          -0.897614598274231,
          -0.8973731398582458,
          -0.8517113924026489,
          -0.8760696649551392,
          -0.8041927814483643,
          -0.9223122000694275,
          -0.8028538227081299,
          -1.1571362018585205,
          -0.9517921209335327,
          -1.1660338640213013,
          -0.8680369257926941,
          -0.8501896262168884,
          -1.1783733367919922,
          -0.831320583820343,
          -0.9403243064880371,
          -0.931768536567688,
          -0.854180634021759,
          -0.8762997984886169,
          -0.8733472228050232,
          0.13192372024059296,
          -0.9164131879806519,
          -0.9030035138130188,
          -0.25208061933517456,
          -0.2828449010848999,
          -0.2828449010848999,
          -0.2434007078409195,
          -0.24370945990085602,
          0.15096214413642883,
          -0.9395698308944702,
          0.12102431803941727,
          0.10896240174770355,
          -0.9425621628761292,
          0.1280718743801117,
          -0.06162434443831444,
          0.09314221888780594,
          -0.2598969638347626,
          -0.07083159685134888,
          -0.29691728949546814,
          0.01129087619483471,
          -0.05295513570308685,
          -0.9197972416877747,
          -0.9083142280578613,
          0.1621471345424652,
          -0.9503034949302673,
          -0.921134352684021,
          0.1343964785337448,
          -0.9020205140113831,
          -0.9099035263061523,
          -0.8829242587089539,
          0.18310792744159698,
          -0.8783122897148132,
          0.1763862669467926,
          0.14484655857086182,
          0.15464623272418976,
          0.1182452142238617,
          0.12111300230026245,
          0.3190058767795563,
          -0.4288533329963684,
          -0.28857123851776123,
          0.1703542321920395,
          -0.21994252502918243,
          -0.29430434107780457,
          -0.2848939895629883,
          -0.46218815445899963,
          -0.9858526587486267,
          -0.4509267210960388,
          -0.9961854219436646,
          0.43213972449302673,
          0.42143210768699646,
          -0.2664097547531128,
          -0.25671184062957764,
          0.01853405497968197,
          -0.7439516186714172,
          -0.06179274618625641,
          -1.3459885120391846,
          -0.02425873838365078,
          -1.3543059825897217,
          -0.5485905408859253,
          -0.79341721534729,
          -0.011937683448195457,
          -0.0197451114654541,
          -0.02844996377825737,
          -1.319410800933838,
          -1.3229061365127563,
          -1.356735348701477,
          -0.6955775618553162,
          -1.3418457508087158,
          -1.3510236740112305,
          -0.7127507925033569,
          -1.1482621431350708,
          -0.3429320454597473,
          -0.831490159034729,
          -0.8012621402740479,
          -1.3184187412261963,
          -1.3294837474822998,
          -0.6495102047920227,
          -1.152112364768982,
          -0.4920256733894348,
          -0.4990442395210266,
          -0.8174652457237244,
          -1.1474995613098145,
          -0.22314545512199402,
          -1.1526472568511963,
          -0.2283860445022583,
          -0.801925539970398,
          -0.24640414118766785,
          -0.9794560074806213,
          -0.4976060390472412,
          -0.18231065571308136,
          -0.9712921977043152,
          -0.9855992794036865,
          -0.7920382618904114,
          -0.8008135557174683,
          -0.7246976494789124,
          -0.9709578156471252,
          -0.7356492877006531,
          -0.25477227568626404,
          -0.28651344776153564,
          -0.8761200904846191,
          -1.538870930671692,
          -1.5456887483596802,
          -0.17363695800304413,
          -0.6836457848548889,
          -0.6926915645599365,
          -0.6646715998649597,
          -0.6505126953125,
          -0.6434493660926819,
          -1.1625198125839233,
          -0.5219188928604126,
          -0.41528016328811646,
          -1.1511454582214355,
          -1.1420520544052124,
          -1.1569187641143799,
          -0.472321480512619,
          -0.49365106225013733,
          -1.1711361408233643,
          -1.146881341934204,
          -0.4402165412902832,
          -0.4571603834629059,
          -0.4108453094959259,
          -0.4329581558704376,
          -1.1677913665771484,
          -1.1389508247375488,
          -0.5161731243133545,
          -1.4767863750457764,
          -1.605159044265747,
          -1.3453917503356934,
          -0.8378905057907104,
          -0.8250102996826172,
          -0.8116642832756042,
          -1.2908320426940918,
          -0.8264232277870178,
          -1.2765799760818481,
          -1.2831580638885498,
          -0.8200258612632751,
          -0.7806161642074585,
          -1.3128679990768433,
          -0.6518998742103577,
          -0.797600507736206,
          -0.8200740814208984,
          -1.4674981832504272,
          -1.261053442955017,
          -1.5070898532867432,
          -1.3714858293533325,
          -1.4868905544281006,
          -1.4752074480056763,
          -1.4972225427627563,
          -0.740105152130127,
          -1.2387638092041016,
          -1.227502703666687,
          -1.5858170986175537,
          -1.272094964981079,
          -0.5816505551338196,
          -1.2276965379714966,
          -1.1938142776489258,
          -1.5957484245300293,
          -1.6007437705993652,
          -0.5575142502784729,
          -1.2069395780563354,
          -1.6025413274765015,
          -1.590476155281067,
          -1.2980988025665283,
          -1.201231837272644,
          -0.9825864434242249,
          -0.9729899764060974,
          -1.2607756853103638,
          -0.9726066589355469,
          -1.2417466640472412,
          -1.2089462280273438,
          -1.2312946319580078,
          -1.2134283781051636,
          -0.8303834199905396,
          -1.2129508256912231,
          -1.2321854829788208,
          -1.1997723579406738,
          -0.596076250076294,
          -1.1929044723510742,
          -0.6072017550468445,
          -1.2213388681411743,
          -0.6172311902046204,
          -1.1992714405059814,
          -0.7026453018188477,
          -0.6148732304573059,
          -0.9099900126457214,
          -0.3858608901500702,
          -0.5967426896095276,
          -0.5939199328422546,
          -1.2804253101348877,
          -1.2699286937713623,
          -1.2842819690704346,
          -0.6203106045722961,
          -1.290419101715088,
          -0.7375850081443787,
          -1.2934118509292603,
          -0.8959651589393616,
          -1.5878435373306274,
          -1.5903902053833008,
          -1.0070823431015015,
          -0.7641626000404358,
          -0.7795628309249878,
          -0.721864640712738,
          -0.7509438991546631,
          -0.7817168831825256,
          -0.5455037951469421,
          -1.2409647703170776,
          -0.6370804905891418,
          -0.559354841709137,
          -1.418403148651123,
          -1.261741280555725,
          -1.2304625511169434,
          -0.6410494446754456,
          -1.4237967729568481,
          -1.251058578491211,
          -1.2684776782989502,
          -1.136963129043579,
          -1.2415343523025513,
          -1.2640713453292847,
          -0.70204758644104,
          -1.248171329498291,
          -1.1283576488494873,
          -0.7830051779747009,
          -1.436112880706787,
          -1.4119110107421875,
          -0.7160666584968567,
          -0.5506541132926941,
          -1.4251182079315186,
          -1.1555688381195068,
          -0.4516719877719879,
          -1.7717115879058838,
          -1.7468838691711426,
          -0.4707765579223633,
          -0.9121742844581604,
          -0.6386976838111877,
          -0.6246751546859741,
          -0.6098260879516602,
          -0.9049693942070007,
          -0.908507227897644,
          -0.652922511100769,
          -0.654546320438385,
          -0.5721920728683472,
          -0.4385431408882141,
          -0.5960686802864075,
          -0.6459933519363403,
          -0.5821831226348877,
          -0.6395390629768372,
          -0.6182731986045837,
          -0.5857527256011963,
          -0.4394098222255707,
          -0.9749470353126526,
          -1.003275752067566,
          -1.02884042263031,
          -0.9723329544067383,
          -0.9375424385070801,
          -1.004469871520996,
          -0.9665021300315857
         ],
         "marker": {
          "color": "#EF553B"
         },
         "mode": "markers",
         "name": "PrimarySchool",
         "showlegend": true,
         "subplot": "mapbox",
         "type": "scattermapbox"
        },
        {
         "hovertemplate": "activity=SecondarySchool<br>latitude=%{lat}<br>longitude=%{lon}<extra></extra>",
         "lat": [
          52.76095962524414,
          52.673072814941406,
          52.659751892089844,
          52.578514099121094,
          52.57991409301758,
          52.558937072753906,
          52.48639678955078,
          52.45008087158203,
          52.46039962768555,
          52.4473762512207,
          52.436824798583984,
          52.42378616333008,
          52.39079284667969,
          52.386436462402344,
          52.385643005371094,
          52.371273040771484,
          52.34219741821289,
          52.35590362548828,
          52.35725021362305,
          52.33918380737305,
          52.32966232299805,
          52.342830657958984,
          52.33097457885742,
          52.328575134277344,
          52.329219818115234,
          52.30899429321289,
          52.30360412597656,
          52.29489517211914,
          52.282562255859375,
          52.2880973815918,
          52.271026611328125,
          52.27010726928711,
          52.2656135559082,
          52.24769592285156,
          52.2568244934082,
          52.22499465942383,
          52.232425689697266,
          52.23921585083008,
          52.217384338378906,
          52.20443344116211,
          52.21350860595703,
          52.192752838134766,
          52.19052505493164,
          52.184810638427734,
          52.126461029052734,
          52.1324577331543,
          52.09862518310547,
          52.089385986328125,
          52.087646484375,
          52.08663558959961,
          52.075416564941406,
          52.080047607421875,
          52.077239990234375,
          52.04839324951172,
          52.036834716796875,
          52.035247802734375,
          52.01713943481445,
          52.028717041015625,
          52.02969741821289,
          52.019527435302734,
          52.02506637573242,
          52.01918411254883,
          52.02690887451172,
          52.02058792114258,
          52.00407028198242,
          52.0073127746582,
          51.987464904785156,
          51.98767852783203,
          51.99348449707031,
          51.96769332885742,
          51.95116424560547,
          51.94793701171875,
          51.937164306640625,
          51.92719650268555,
          51.91967010498047,
          51.92168426513672,
          51.91593933105469,
          51.90787124633789,
          51.90872573852539,
          51.907081604003906,
          51.90804672241211,
          51.89841842651367,
          51.89495086669922,
          51.84882736206055,
          51.81398391723633,
          51.81340408325195,
          51.81623458862305,
          51.812095642089844,
          51.798160552978516,
          51.803585052490234,
          51.792423248291016,
          51.78218078613281,
          51.781185150146484,
          51.775611877441406,
          51.766605377197266,
          51.754364013671875,
          51.75294494628906,
          51.74669647216797,
          51.742774963378906,
          51.70883560180664,
          51.698638916015625,
          51.67623519897461,
          51.68170166015625,
          51.676937103271484,
          51.67667770385742,
          51.66730499267578,
          51.66752243041992,
          51.663536071777344,
          51.665645599365234,
          51.6471061706543,
          51.64839172363281,
          51.648338317871094,
          51.64111328125,
          51.62944412231445,
          51.61908721923828,
          51.61709213256836,
          51.609832763671875,
          51.60392379760742,
          51.6029167175293,
          51.607295989990234,
          51.60552978515625,
          51.6014518737793,
          51.586551666259766,
          51.580265045166016,
          51.57022476196289,
          51.55848693847656,
          51.564735412597656,
          51.560203552246094,
          51.5369758605957,
          51.53595733642578,
          51.53250503540039,
          51.53239059448242,
          51.519989013671875,
          51.52479934692383,
          51.52238082885742,
          51.51443862915039,
          51.5045166015625,
          51.504180908203125,
          51.49903106689453,
          51.4817008972168,
          51.44779586791992,
          51.43748092651367,
          52.406585693359375,
          52.6043815612793,
          52.607505798339844,
          52.298072814941406,
          52.215614318847656,
          51.71958541870117,
          51.59192657470703,
          51.58075714111328,
          51.43655776977539,
          52.5343132019043,
          52.35931396484375,
          51.900596618652344,
          51.88408279418945,
          52.80923843383789,
          52.794002532958984,
          52.69612503051758,
          52.655120849609375,
          52.552772521972656,
          52.54884338378906,
          52.54380798339844,
          52.53694534301758,
          52.508567810058594,
          52.501895904541016,
          52.48748779296875,
          52.47703170776367,
          52.462711334228516,
          52.478084564208984,
          52.467437744140625,
          52.30207061767578,
          52.296607971191406,
          52.280662536621094,
          52.25019454956055,
          52.26455307006836,
          52.25905227661133,
          52.258262634277344,
          52.25450134277344,
          52.22587966918945,
          52.21826934814453,
          52.21609115600586,
          52.18074417114258,
          52.1731071472168,
          52.11865997314453,
          52.10993194580078,
          52.0749626159668,
          52.072044372558594,
          52.06104278564453,
          52.050262451171875,
          52.02816390991211,
          52.0182991027832,
          51.998844146728516,
          51.980262756347656,
          51.94891357421875,
          51.913978576660156,
          51.89674758911133,
          51.896114349365234,
          51.900733947753906,
          51.878238677978516,
          51.874000549316406,
          51.86943817138672,
          51.771549224853516,
          51.742923736572266,
          51.72189712524414,
          51.709224700927734,
          51.605377197265625,
          51.60389709472656,
          51.515838623046875,
          51.497745513916016,
          51.44691467285156,
          52.38135528564453,
          52.25094223022461,
          52.096763610839844,
          52.059669494628906,
          52.02598571777344,
          51.99468994140625,
          51.96249771118164,
          51.919883728027344,
          51.91571044921875,
          51.90156555175781,
          51.89240264892578,
          51.80917739868164,
          51.79912567138672,
          51.76520538330078,
          51.75338363647461,
          51.61480712890625,
          51.5373649597168,
          51.520816802978516,
          51.45423126220703,
          51.45509338378906,
          52.137840270996094
         ],
         "legendgroup": "SecondarySchool",
         "lon": [
          0.432648628950119,
          -0.5183594822883606,
          -0.48020437359809875,
          -0.27614372968673706,
          -0.7219104170799255,
          -0.11805745214223862,
          -0.923555314540863,
          0.05261429771780968,
          -1.2088955640792847,
          -0.09755031019449234,
          -0.27964890003204346,
          -0.8101671934127808,
          0.21205797791481018,
          -0.7176747918128967,
          -0.7273808717727661,
          -1.2551406621932983,
          0.5260166525840759,
          -1.0189547538757324,
          -1.2312365770339966,
          -0.1855170726776123,
          0.3390451967716217,
          -0.530920684337616,
          -0.08536279946565628,
          -0.20141935348510742,
          -0.621227502822876,
          -0.6943760514259338,
          -0.587556779384613,
          -0.005573819857090712,
          0.12502917647361755,
          -0.8572023510932922,
          -0.8857797980308533,
          -0.86182701587677,
          -0.8741486072540283,
          0.11696045100688934,
          -0.662635862827301,
          0.25509893894195557,
          -0.25208061933517456,
          -0.8675526976585388,
          0.12039364129304886,
          0.12851426005363464,
          -0.9996857643127441,
          0.15177635848522186,
          0.16245171427726746,
          0.010766231454908848,
          0.163731187582016,
          -0.9932910203933716,
          0.2719486653804779,
          0.44740211963653564,
          0.018495745956897736,
          -0.25019320845603943,
          -0.05961648374795914,
          -0.7353598475456238,
          -1.2683745622634888,
          -1.340881109237671,
          -0.31834468245506287,
          -0.3415120244026184,
          0.23149748146533966,
          -0.4995326101779938,
          -1.1502679586410522,
          -0.2461092472076416,
          -0.7901683449745178,
          -0.4972866475582123,
          -1.3675485849380493,
          -0.6885068416595459,
          -0.5014933347702026,
          -0.7898748517036438,
          0.2123403698205948,
          -0.19077353179454803,
          -0.9861566424369812,
          -0.4874950647354126,
          -0.2785073518753052,
          -0.26942023634910583,
          -1.5433615446090698,
          -0.6448805332183838,
          -0.21353308856487274,
          -0.4239227771759033,
          -0.646426260471344,
          -0.42790985107421875,
          -0.6756889820098877,
          -0.6741673350334167,
          -1.144991397857666,
          -0.4679189920425415,
          -0.4673684239387512,
          -1.3414182662963867,
          -0.8014715313911438,
          -0.8240591883659363,
          -1.279150366783142,
          -0.802217960357666,
          -0.6545381546020508,
          -1.641662836074829,
          -1.4710516929626465,
          -1.3810352087020874,
          -1.4874037504196167,
          -1.2582305669784546,
          -0.7394125461578369,
          -1.1368420124053955,
          -1.2221676111221313,
          -0.9917910695075989,
          -1.3027546405792236,
          -0.6002227067947388,
          -0.704663872718811,
          -0.6098189353942871,
          -1.2840505838394165,
          -1.3004683256149292,
          -1.2883528470993042,
          -0.5698497295379639,
          -0.5939335823059082,
          -0.5140697360038757,
          -0.6979847550392151,
          -0.7118710279464722,
          -1.0070823431015015,
          -1.5900174379348755,
          -0.7387908101081848,
          -0.7256345152854919,
          -0.7620216608047485,
          -0.7645314931869507,
          -0.5702121257781982,
          -0.6437672972679138,
          -0.6405050754547119,
          -1.2532212734222412,
          -1.1273202896118164,
          -1.2418241500854492,
          -1.4294363260269165,
          -0.7650395035743713,
          -0.7816308736801147,
          -0.4620862901210785,
          -1.7636150121688843,
          -1.7303017377853394,
          -0.47280383110046387,
          -0.7407041192054749,
          -0.4596604108810425,
          -0.6521366238594055,
          -0.42919424176216125,
          -0.921382486820221,
          -0.7579717040061951,
          -0.6283973455429077,
          -0.6037684679031372,
          -0.5787081122398376,
          -0.5525612831115723,
          -0.9756107330322266,
          -1.0181729793548584,
          -0.9245621562004089,
          0.25745558738708496,
          0.3886471688747406,
          -0.26905369758605957,
          -0.6049931645393372,
          -0.27040907740592957,
          -0.8286076784133911,
          -1.7589558362960815,
          -0.7055066823959351,
          -1.0862468481063843,
          -0.2574698328971863,
          -1.2631831169128418,
          -1.1606844663619995,
          -0.4094150960445404,
          0.01636032946407795,
          0.13028119504451752,
          0.18645623326301575,
          0.1656167060136795,
          -0.2858554720878601,
          -0.2266884744167328,
          -0.3025888502597809,
          0.08860307931900024,
          -0.6422919631004333,
          -0.7212864756584167,
          -0.6918810606002808,
          -0.46190333366394043,
          0.29810142517089844,
          -0.7333882451057434,
          -0.7123633623123169,
          -0.7131027579307556,
          -0.688933253288269,
          0.06811442226171494,
          0.3963225483894348,
          -1.1642056703567505,
          -0.8466379046440125,
          -0.8336628079414368,
          -0.8912628293037415,
          0.13040390610694885,
          -0.08273329585790634,
          -0.9045146703720093,
          0.16439062356948853,
          0.1418335884809494,
          -0.4529738426208496,
          -0.5091475248336792,
          -1.0222928524017334,
          -1.367830514907837,
          -0.7724655866622925,
          -1.3438576459884644,
          -0.7510792016983032,
          -0.23318664729595184,
          -0.7510503530502319,
          -0.727178156375885,
          -0.8901706337928772,
          -0.5065297484397888,
          -0.48941341042518616,
          -0.5296347141265869,
          -1.1608999967575073,
          -0.5282420516014099,
          -0.4967416822910309,
          -0.4356704652309418,
          -1.240355134010315,
          -1.220022201538086,
          -1.2153894901275635,
          -0.622499942779541,
          -1.2714323997497559,
          -1.2718459367752075,
          -0.7271063923835754,
          -0.5723676681518555,
          -1.00003182888031,
          -0.6930214762687683,
          0.704181969165802,
          -0.2503955066204071,
          -0.8228113055229187,
          -0.7534719109535217,
          -0.9839738607406616,
          -0.28305116295814514,
          -0.45223984122276306,
          -0.665145754814148,
          -0.40613776445388794,
          -0.7215818762779236,
          -0.7991041541099548,
          -0.8142937421798706,
          -1.6005961894989014,
          -0.5641914010047913,
          -0.7844528555870056,
          -0.4469517469406128,
          -0.5883808135986328,
          -0.9176777005195618,
          -1.0581858158111572,
          -0.2902717888355255
         ],
         "marker": {
          "color": "#00cc96"
         },
         "mode": "markers",
         "name": "SecondarySchool",
         "showlegend": true,
         "subplot": "mapbox",
         "type": "scattermapbox"
        }
       ],
       "layout": {
        "legend": {
         "title": {
          "text": "activity"
         },
         "tracegroupgap": 0
        },
        "mapbox": {
         "accesstoken": "pk.eyJ1Ijoic2dyZWVuYnVyeSIsImEiOiJjbG5kZWdhaTEwM3RtMmxuejA1eGVtanF2In0.3KEqlsxRdD0cQBiQhDpvDQ",
         "center": {
          "lat": 52.03046798706055,
          "lon": -0.6586889028549194
         },
         "domain": {
          "x": [
           0,
           1
          ],
          "y": [
           0,
           1
          ]
         },
         "zoom": 8
        },
        "margin": {
         "t": 60
        },
        "template": {
         "data": {
          "bar": [
           {
            "error_x": {
             "color": "#2a3f5f"
            },
            "error_y": {
             "color": "#2a3f5f"
            },
            "marker": {
             "line": {
              "color": "#E5ECF6",
              "width": 0.5
             },
             "pattern": {
              "fillmode": "overlay",
              "size": 10,
              "solidity": 0.2
             }
            },
            "type": "bar"
           }
          ],
          "barpolar": [
           {
            "marker": {
             "line": {
              "color": "#E5ECF6",
              "width": 0.5
             },
             "pattern": {
              "fillmode": "overlay",
              "size": 10,
              "solidity": 0.2
             }
            },
            "type": "barpolar"
           }
          ],
          "carpet": [
           {
            "aaxis": {
             "endlinecolor": "#2a3f5f",
             "gridcolor": "white",
             "linecolor": "white",
             "minorgridcolor": "white",
             "startlinecolor": "#2a3f5f"
            },
            "baxis": {
             "endlinecolor": "#2a3f5f",
             "gridcolor": "white",
             "linecolor": "white",
             "minorgridcolor": "white",
             "startlinecolor": "#2a3f5f"
            },
            "type": "carpet"
           }
          ],
          "choropleth": [
           {
            "colorbar": {
             "outlinewidth": 0,
             "ticks": ""
            },
            "type": "choropleth"
           }
          ],
          "contour": [
           {
            "colorbar": {
             "outlinewidth": 0,
             "ticks": ""
            },
            "colorscale": [
             [
              0,
              "#0d0887"
             ],
             [
              0.1111111111111111,
              "#46039f"
             ],
             [
              0.2222222222222222,
              "#7201a8"
             ],
             [
              0.3333333333333333,
              "#9c179e"
             ],
             [
              0.4444444444444444,
              "#bd3786"
             ],
             [
              0.5555555555555556,
              "#d8576b"
             ],
             [
              0.6666666666666666,
              "#ed7953"
             ],
             [
              0.7777777777777778,
              "#fb9f3a"
             ],
             [
              0.8888888888888888,
              "#fdca26"
             ],
             [
              1,
              "#f0f921"
             ]
            ],
            "type": "contour"
           }
          ],
          "contourcarpet": [
           {
            "colorbar": {
             "outlinewidth": 0,
             "ticks": ""
            },
            "type": "contourcarpet"
           }
          ],
          "heatmap": [
           {
            "colorbar": {
             "outlinewidth": 0,
             "ticks": ""
            },
            "colorscale": [
             [
              0,
              "#0d0887"
             ],
             [
              0.1111111111111111,
              "#46039f"
             ],
             [
              0.2222222222222222,
              "#7201a8"
             ],
             [
              0.3333333333333333,
              "#9c179e"
             ],
             [
              0.4444444444444444,
              "#bd3786"
             ],
             [
              0.5555555555555556,
              "#d8576b"
             ],
             [
              0.6666666666666666,
              "#ed7953"
             ],
             [
              0.7777777777777778,
              "#fb9f3a"
             ],
             [
              0.8888888888888888,
              "#fdca26"
             ],
             [
              1,
              "#f0f921"
             ]
            ],
            "type": "heatmap"
           }
          ],
          "heatmapgl": [
           {
            "colorbar": {
             "outlinewidth": 0,
             "ticks": ""
            },
            "colorscale": [
             [
              0,
              "#0d0887"
             ],
             [
              0.1111111111111111,
              "#46039f"
             ],
             [
              0.2222222222222222,
              "#7201a8"
             ],
             [
              0.3333333333333333,
              "#9c179e"
             ],
             [
              0.4444444444444444,
              "#bd3786"
             ],
             [
              0.5555555555555556,
              "#d8576b"
             ],
             [
              0.6666666666666666,
              "#ed7953"
             ],
             [
              0.7777777777777778,
              "#fb9f3a"
             ],
             [
              0.8888888888888888,
              "#fdca26"
             ],
             [
              1,
              "#f0f921"
             ]
            ],
            "type": "heatmapgl"
           }
          ],
          "histogram": [
           {
            "marker": {
             "pattern": {
              "fillmode": "overlay",
              "size": 10,
              "solidity": 0.2
             }
            },
            "type": "histogram"
           }
          ],
          "histogram2d": [
           {
            "colorbar": {
             "outlinewidth": 0,
             "ticks": ""
            },
            "colorscale": [
             [
              0,
              "#0d0887"
             ],
             [
              0.1111111111111111,
              "#46039f"
             ],
             [
              0.2222222222222222,
              "#7201a8"
             ],
             [
              0.3333333333333333,
              "#9c179e"
             ],
             [
              0.4444444444444444,
              "#bd3786"
             ],
             [
              0.5555555555555556,
              "#d8576b"
             ],
             [
              0.6666666666666666,
              "#ed7953"
             ],
             [
              0.7777777777777778,
              "#fb9f3a"
             ],
             [
              0.8888888888888888,
              "#fdca26"
             ],
             [
              1,
              "#f0f921"
             ]
            ],
            "type": "histogram2d"
           }
          ],
          "histogram2dcontour": [
           {
            "colorbar": {
             "outlinewidth": 0,
             "ticks": ""
            },
            "colorscale": [
             [
              0,
              "#0d0887"
             ],
             [
              0.1111111111111111,
              "#46039f"
             ],
             [
              0.2222222222222222,
              "#7201a8"
             ],
             [
              0.3333333333333333,
              "#9c179e"
             ],
             [
              0.4444444444444444,
              "#bd3786"
             ],
             [
              0.5555555555555556,
              "#d8576b"
             ],
             [
              0.6666666666666666,
              "#ed7953"
             ],
             [
              0.7777777777777778,
              "#fb9f3a"
             ],
             [
              0.8888888888888888,
              "#fdca26"
             ],
             [
              1,
              "#f0f921"
             ]
            ],
            "type": "histogram2dcontour"
           }
          ],
          "mesh3d": [
           {
            "colorbar": {
             "outlinewidth": 0,
             "ticks": ""
            },
            "type": "mesh3d"
           }
          ],
          "parcoords": [
           {
            "line": {
             "colorbar": {
              "outlinewidth": 0,
              "ticks": ""
             }
            },
            "type": "parcoords"
           }
          ],
          "pie": [
           {
            "automargin": true,
            "type": "pie"
           }
          ],
          "scatter": [
           {
            "fillpattern": {
             "fillmode": "overlay",
             "size": 10,
             "solidity": 0.2
            },
            "type": "scatter"
           }
          ],
          "scatter3d": [
           {
            "line": {
             "colorbar": {
              "outlinewidth": 0,
              "ticks": ""
             }
            },
            "marker": {
             "colorbar": {
              "outlinewidth": 0,
              "ticks": ""
             }
            },
            "type": "scatter3d"
           }
          ],
          "scattercarpet": [
           {
            "marker": {
             "colorbar": {
              "outlinewidth": 0,
              "ticks": ""
             }
            },
            "type": "scattercarpet"
           }
          ],
          "scattergeo": [
           {
            "marker": {
             "colorbar": {
              "outlinewidth": 0,
              "ticks": ""
             }
            },
            "type": "scattergeo"
           }
          ],
          "scattergl": [
           {
            "marker": {
             "colorbar": {
              "outlinewidth": 0,
              "ticks": ""
             }
            },
            "type": "scattergl"
           }
          ],
          "scattermapbox": [
           {
            "marker": {
             "colorbar": {
              "outlinewidth": 0,
              "ticks": ""
             }
            },
            "type": "scattermapbox"
           }
          ],
          "scatterpolar": [
           {
            "marker": {
             "colorbar": {
              "outlinewidth": 0,
              "ticks": ""
             }
            },
            "type": "scatterpolar"
           }
          ],
          "scatterpolargl": [
           {
            "marker": {
             "colorbar": {
              "outlinewidth": 0,
              "ticks": ""
             }
            },
            "type": "scatterpolargl"
           }
          ],
          "scatterternary": [
           {
            "marker": {
             "colorbar": {
              "outlinewidth": 0,
              "ticks": ""
             }
            },
            "type": "scatterternary"
           }
          ],
          "surface": [
           {
            "colorbar": {
             "outlinewidth": 0,
             "ticks": ""
            },
            "colorscale": [
             [
              0,
              "#0d0887"
             ],
             [
              0.1111111111111111,
              "#46039f"
             ],
             [
              0.2222222222222222,
              "#7201a8"
             ],
             [
              0.3333333333333333,
              "#9c179e"
             ],
             [
              0.4444444444444444,
              "#bd3786"
             ],
             [
              0.5555555555555556,
              "#d8576b"
             ],
             [
              0.6666666666666666,
              "#ed7953"
             ],
             [
              0.7777777777777778,
              "#fb9f3a"
             ],
             [
              0.8888888888888888,
              "#fdca26"
             ],
             [
              1,
              "#f0f921"
             ]
            ],
            "type": "surface"
           }
          ],
          "table": [
           {
            "cells": {
             "fill": {
              "color": "#EBF0F8"
             },
             "line": {
              "color": "white"
             }
            },
            "header": {
             "fill": {
              "color": "#C8D4E3"
             },
             "line": {
              "color": "white"
             }
            },
            "type": "table"
           }
          ]
         },
         "layout": {
          "annotationdefaults": {
           "arrowcolor": "#2a3f5f",
           "arrowhead": 0,
           "arrowwidth": 1
          },
          "autotypenumbers": "strict",
          "coloraxis": {
           "colorbar": {
            "outlinewidth": 0,
            "ticks": ""
           }
          },
          "colorscale": {
           "diverging": [
            [
             0,
             "#8e0152"
            ],
            [
             0.1,
             "#c51b7d"
            ],
            [
             0.2,
             "#de77ae"
            ],
            [
             0.3,
             "#f1b6da"
            ],
            [
             0.4,
             "#fde0ef"
            ],
            [
             0.5,
             "#f7f7f7"
            ],
            [
             0.6,
             "#e6f5d0"
            ],
            [
             0.7,
             "#b8e186"
            ],
            [
             0.8,
             "#7fbc41"
            ],
            [
             0.9,
             "#4d9221"
            ],
            [
             1,
             "#276419"
            ]
           ],
           "sequential": [
            [
             0,
             "#0d0887"
            ],
            [
             0.1111111111111111,
             "#46039f"
            ],
            [
             0.2222222222222222,
             "#7201a8"
            ],
            [
             0.3333333333333333,
             "#9c179e"
            ],
            [
             0.4444444444444444,
             "#bd3786"
            ],
            [
             0.5555555555555556,
             "#d8576b"
            ],
            [
             0.6666666666666666,
             "#ed7953"
            ],
            [
             0.7777777777777778,
             "#fb9f3a"
            ],
            [
             0.8888888888888888,
             "#fdca26"
            ],
            [
             1,
             "#f0f921"
            ]
           ],
           "sequentialminus": [
            [
             0,
             "#0d0887"
            ],
            [
             0.1111111111111111,
             "#46039f"
            ],
            [
             0.2222222222222222,
             "#7201a8"
            ],
            [
             0.3333333333333333,
             "#9c179e"
            ],
            [
             0.4444444444444444,
             "#bd3786"
            ],
            [
             0.5555555555555556,
             "#d8576b"
            ],
            [
             0.6666666666666666,
             "#ed7953"
            ],
            [
             0.7777777777777778,
             "#fb9f3a"
            ],
            [
             0.8888888888888888,
             "#fdca26"
            ],
            [
             1,
             "#f0f921"
            ]
           ]
          },
          "colorway": [
           "#636efa",
           "#EF553B",
           "#00cc96",
           "#ab63fa",
           "#FFA15A",
           "#19d3f3",
           "#FF6692",
           "#B6E880",
           "#FF97FF",
           "#FECB52"
          ],
          "font": {
           "color": "#2a3f5f"
          },
          "geo": {
           "bgcolor": "white",
           "lakecolor": "white",
           "landcolor": "#E5ECF6",
           "showlakes": true,
           "showland": true,
           "subunitcolor": "white"
          },
          "hoverlabel": {
           "align": "left"
          },
          "hovermode": "closest",
          "mapbox": {
           "style": "light"
          },
          "paper_bgcolor": "white",
          "plot_bgcolor": "#E5ECF6",
          "polar": {
           "angularaxis": {
            "gridcolor": "white",
            "linecolor": "white",
            "ticks": ""
           },
           "bgcolor": "#E5ECF6",
           "radialaxis": {
            "gridcolor": "white",
            "linecolor": "white",
            "ticks": ""
           }
          },
          "scene": {
           "xaxis": {
            "backgroundcolor": "#E5ECF6",
            "gridcolor": "white",
            "gridwidth": 2,
            "linecolor": "white",
            "showbackground": true,
            "ticks": "",
            "zerolinecolor": "white"
           },
           "yaxis": {
            "backgroundcolor": "#E5ECF6",
            "gridcolor": "white",
            "gridwidth": 2,
            "linecolor": "white",
            "showbackground": true,
            "ticks": "",
            "zerolinecolor": "white"
           },
           "zaxis": {
            "backgroundcolor": "#E5ECF6",
            "gridcolor": "white",
            "gridwidth": 2,
            "linecolor": "white",
            "showbackground": true,
            "ticks": "",
            "zerolinecolor": "white"
           }
          },
          "shapedefaults": {
           "line": {
            "color": "#2a3f5f"
           }
          },
          "ternary": {
           "aaxis": {
            "gridcolor": "white",
            "linecolor": "white",
            "ticks": ""
           },
           "baxis": {
            "gridcolor": "white",
            "linecolor": "white",
            "ticks": ""
           },
           "bgcolor": "#E5ECF6",
           "caxis": {
            "gridcolor": "white",
            "linecolor": "white",
            "ticks": ""
           }
          },
          "title": {
           "x": 0.05
          },
          "xaxis": {
           "automargin": true,
           "gridcolor": "white",
           "linecolor": "white",
           "ticks": "",
           "title": {
            "standoff": 15
           },
           "zerolinecolor": "white",
           "zerolinewidth": 2
          },
          "yaxis": {
           "automargin": true,
           "gridcolor": "white",
           "linecolor": "white",
           "ticks": "",
           "title": {
            "standoff": 15
           },
           "zerolinecolor": "white",
           "zerolinewidth": 2
          }
         }
        }
       }
      }
     },
     "metadata": {},
     "output_type": "display_data"
    }
   ],
   "source": [
    "df = spc.venues_per_activity.unnest(\"location\").filter(pl.col(\"activity\") != \"Work\")\n",
    "print(df)\n",
    "px.set_mapbox_access_token(os.getenv(\"MAPBOX_KEY\"))\n",
    "fig = px.scatter_mapbox(df, lat=\"latitude\", lon=\"longitude\", color=\"activity\")\n",
    "fig.show()"
   ]
  },
  {
   "cell_type": "markdown",
   "metadata": {},
   "source": [
    "### 2. Explore demographic and health data\n"
   ]
  },
  {
   "cell_type": "code",
   "execution_count": 18,
   "metadata": {},
   "outputs": [
    {
     "data": {
      "text/plain": [
       "<Axes: ylabel='Count'>"
      ]
     },
     "execution_count": 18,
     "metadata": {},
     "output_type": "execute_result"
    },
    {
     "data": {
      "image/png": "[encoded data removed]",
      "text/plain": [
       "<Figure size 640x480 with 1 Axes>"
      ]
     },
     "metadata": {},
     "output_type": "display_data"
    }
   ],
   "source": [
    "# Plot Age\n",
    "sns.histplot(\n",
    "    spc.people.unnest(\"demographics\").select(\"age_years\").to_pandas(),\n",
    "    bins=np.arange(10, 90),\n",
    ")"
   ]
  },
  {
   "cell_type": "code",
   "execution_count": 19,
   "metadata": {},
   "outputs": [
    {
     "data": {
      "image/png": "[encoded data removed]",
      "text/plain": [
       "<Figure size 600x600 with 1 Axes>"
      ]
     },
     "metadata": {},
     "output_type": "display_data"
    }
   ],
   "source": [
    "# Plot 2D hist of Age and BMI\n",
    "age_bmi = (\n",
    "    spc.people.unnest(\"demographics\")\n",
    "    .unnest(\"health\")\n",
    "    .select([\"age_years\", \"bmi\"])\n",
    "    .filter(pl.col(\"bmi\") != None)\n",
    "    .to_numpy()\n",
    ")\n",
    "\n",
    "# Draw a combination of histogram and scatterplot with density contours\n",
    "f, ax = plt.subplots(figsize=(6, 6))\n",
    "x, y = age_bmi[:, 0], age_bmi[:, 1]\n",
    "sns.scatterplot(x=x, y=y, s=5, color=\".15\")\n",
    "sns.histplot(\n",
    "    x=x, y=y, bins=[np.arange(10, 90), np.arange(0, 60)], pthresh=0.01, cmap=\"mako\"\n",
    ")\n",
    "plt.gca().set(xlabel=\"Age\", ylabel=\"BMI\")\n",
    "plt.show()"
   ]
  },
  {
   "cell_type": "markdown",
   "metadata": {},
   "source": [
    "#### 2.2 Combine with weekday diaries\n",
    "\n",
    "**Question: Are weekday activities related to health features?**\n",
    "\n",
    "Pick some features to explore, merge and aggregate. See [data schema](https://github.com/alan-turing-institute/uatk-spc/blob/main/synthpop.proto) for more details.\n"
   ]
  },
  {
   "cell_type": "code",
   "execution_count": 20,
   "metadata": {},
   "outputs": [],
   "source": [
    "# Merge and pick first diary entry as an example, many possible options for aggregating!\n",
    "features = {\n",
    "    # \"health\": [\"bmi\"],\n",
    "    \"health\": [\n",
    "        \"bmi\",\n",
    "        \"has_cardiovascular_disease\",\n",
    "        \"has_diabetes\",\n",
    "        \"has_high_blood_pressure\",\n",
    "        \"self_assessed_health\",\n",
    "        \"life_satisfaction\",\n",
    "    ],\n",
    "    \"demographics\": [\"age_years\", \"sex\", \"nssec8\"],\n",
    "    \"employment\": [\"pwkstat\", \"salary_yearly\"],\n",
    "}\n",
    "merged = spc.merge_people_and_time_use_diaries(features, \"weekday_diaries\")\n",
    "\n",
    "# Pick a subset of activities to explore\n",
    "activities = [\"pmwalk\", \"pmcycle\", \"pmprivate\", \"pmpublic\", \"pmunknown\", \"pleisure\"]\n",
    "\n",
    "# First diary per person across all diaries\n",
    "merged_agg = (\n",
    "    merged.select(\n",
    "        [\"id\"]\n",
    "        + activities\n",
    "        + features[\"health\"]\n",
    "        + features[\"demographics\"]\n",
    "        + features[\"employment\"]\n",
    "    ).groupby([\"id\"], maintain_order=True)\n",
    "    .first()\n",
    ")"
   ]
  },
  {
   "cell_type": "code",
   "execution_count": 21,
   "metadata": {},
   "outputs": [
    {
     "data": {
      "text/html": [
       "<div><style>\n",
       ".dataframe > thead > tr > th,\n",
       ".dataframe > tbody > tr > td {\n",
       "  text-align: right;\n",
       "}\n",
       "</style>\n",
       "<small>shape: (5, 18)</small><table border=\"1\" class=\"dataframe\"><thead><tr><th>id</th><th>pmwalk</th><th>pmcycle</th><th>pmprivate</th><th>pmpublic</th><th>pmunknown</th><th>pleisure</th><th>bmi</th><th>has_cardiovascular_disease</th><th>has_diabetes</th><th>has_high_blood_pressure</th><th>self_assessed_health</th><th>life_satisfaction</th><th>age_years</th><th>sex</th><th>nssec8</th><th>pwkstat</th><th>salary_yearly</th></tr><tr><td>u64</td><td>f32</td><td>f32</td><td>f32</td><td>f32</td><td>f32</td><td>f32</td><td>f32</td><td>bool</td><td>bool</td><td>bool</td><td>i32</td><td>i32</td><td>u32</td><td>i32</td><td>i32</td><td>i32</td><td>f32</td></tr></thead><tbody><tr><td>0</td><td>0.76923</td><td>0.0</td><td>0.76923</td><td>0.0</td><td>0.23077</td><td>0.04861</td><td>37.280968</td><td>false</td><td>false</td><td>false</td><td>1</td><td>3</td><td>40</td><td>2</td><td>6</td><td>7</td><td>null</td></tr><tr><td>1</td><td>0.26667</td><td>0.0</td><td>0.26667</td><td>0.73333</td><td>0.0</td><td>0.07639</td><td>35.771095</td><td>false</td><td>false</td><td>false</td><td>2</td><td>3</td><td>39</td><td>1</td><td>1</td><td>1</td><td>127906.320312</td></tr><tr><td>2</td><td>0.0</td><td>0.0</td><td>0.83333</td><td>0.0</td><td>0.16667</td><td>0.00694</td><td>null</td><td>false</td><td>false</td><td>false</td><td>1</td><td>null</td><td>7</td><td>2</td><td>null</td><td>0</td><td>null</td></tr><tr><td>3</td><td>0.0</td><td>0.0</td><td>0.9</td><td>0.0</td><td>0.1</td><td>0.05556</td><td>34.354729</td><td>true</td><td>true</td><td>true</td><td>4</td><td>3</td><td>66</td><td>1</td><td>4</td><td>6</td><td>null</td></tr><tr><td>4</td><td>0.6</td><td>0.0</td><td>1.0</td><td>0.0</td><td>0.0</td><td>0.08333</td><td>20.597435</td><td>false</td><td>false</td><td>false</td><td>3</td><td>null</td><td>60</td><td>2</td><td>1</td><td>1</td><td>64961.53125</td></tr></tbody></table></div>"
      ],
      "text/plain": [
       "shape: (5, 18)\n",
       "┌─────┬─────────┬─────────┬───────────┬───┬─────┬────────┬─────────┬───────────────┐\n",
       "│ id  ┆ pmwalk  ┆ pmcycle ┆ pmprivate ┆ … ┆ sex ┆ nssec8 ┆ pwkstat ┆ salary_yearly │\n",
       "│ --- ┆ ---     ┆ ---     ┆ ---       ┆   ┆ --- ┆ ---    ┆ ---     ┆ ---           │\n",
       "│ u64 ┆ f32     ┆ f32     ┆ f32       ┆   ┆ i32 ┆ i32    ┆ i32     ┆ f32           │\n",
       "╞═════╪═════════╪═════════╪═══════════╪═══╪═════╪════════╪═════════╪═══════════════╡\n",
       "│ 0   ┆ 0.76923 ┆ 0.0     ┆ 0.76923   ┆ … ┆ 2   ┆ 6      ┆ 7       ┆ null          │\n",
       "│ 1   ┆ 0.26667 ┆ 0.0     ┆ 0.26667   ┆ … ┆ 1   ┆ 1      ┆ 1       ┆ 127906.320312 │\n",
       "│ 2   ┆ 0.0     ┆ 0.0     ┆ 0.83333   ┆ … ┆ 2   ┆ null   ┆ 0       ┆ null          │\n",
       "│ 3   ┆ 0.0     ┆ 0.0     ┆ 0.9       ┆ … ┆ 1   ┆ 4      ┆ 6       ┆ null          │\n",
       "│ 4   ┆ 0.6     ┆ 0.0     ┆ 1.0       ┆ … ┆ 2   ┆ 1      ┆ 1       ┆ 64961.53125   │\n",
       "└─────┴─────────┴─────────┴───────────┴───┴─────┴────────┴─────────┴───────────────┘"
      ]
     },
     "execution_count": 21,
     "metadata": {},
     "output_type": "execute_result"
    }
   ],
   "source": [
    "merged_agg.head()"
   ]
  },
  {
   "cell_type": "markdown",
   "metadata": {},
   "source": [
    "#### Plotting activity distributions\n"
   ]
  },
  {
   "cell_type": "code",
   "execution_count": 22,
   "metadata": {},
   "outputs": [
    {
     "name": "stdout",
     "output_type": "stream",
     "text": [
      "['pmwalk', 'pmcycle', 'pmprivate', 'pmpublic', 'pmunknown', 'pleisure']\n"
     ]
    }
   ],
   "source": [
    "print(activities)"
   ]
  },
  {
   "cell_type": "code",
   "execution_count": 23,
   "metadata": {},
   "outputs": [
    {
     "data": {
      "image/png": "[encoded data removed]",
      "text/plain": [
       "<Figure size 600x600 with 6 Axes>"
      ]
     },
     "metadata": {},
     "output_type": "display_data"
    }
   ],
   "source": [
    "nrows, ncols = 3, 2\n",
    "fig, axs = plt.subplots(nrows, ncols)\n",
    "fig.set_size_inches(6, 6)\n",
    "for idx, activity in enumerate(activities):\n",
    "    row, col = idx // ncols, idx % ncols\n",
    "    ax = axs[row, col]\n",
    "    sns.histplot(merged_agg.select(activity).to_pandas(), bins=20, ax=ax)\n",
    "plt.subplots_adjust(hspace=0.4, wspace=0.4)\n",
    "plt.show()"
   ]
  },
  {
   "cell_type": "markdown",
   "metadata": {},
   "source": [
    "Perform a simple clustering of the six activity features with K-means.\n"
   ]
  },
  {
   "cell_type": "code",
   "execution_count": 24,
   "metadata": {},
   "outputs": [],
   "source": [
    "nclusters = 6\n",
    "data = merged_agg.select(activities).to_numpy()\n",
    "labels = KMeans(nclusters, random_state=0).fit_predict(data)"
   ]
  },
  {
   "cell_type": "markdown",
   "metadata": {},
   "source": [
    "Plot the resultant means per feature of the clusters.\n"
   ]
  },
  {
   "cell_type": "code",
   "execution_count": 25,
   "metadata": {},
   "outputs": [
    {
     "data": {
      "image/png": "[encoded data removed]",
      "text/plain": [
       "<Figure size 400x600 with 6 Axes>"
      ]
     },
     "metadata": {},
     "output_type": "display_data"
    }
   ],
   "source": [
    "nrows, ncols = nclusters, 1\n",
    "fig, axs = plt.subplots(nrows, ncols, squeeze=False, sharey=True)\n",
    "fig.set_size_inches(4, 6)\n",
    "for cluster_idx in np.arange(0, nclusters):\n",
    "    ax = axs[cluster_idx, 0]\n",
    "    idxs = np.where(cluster_idx == labels)[0]\n",
    "    ax.set_title(\n",
    "        f\"Cluster: {cluster_idx}\", fontdict={\"size\": \"small\"}, ha=\"center\", pad=-0.1\n",
    "    )\n",
    "    ax.bar(\n",
    "        np.arange(len(activities)),\n",
    "        merged_agg.select(activities).to_pandas().iloc[idxs, :].mean(axis=0).to_numpy(),\n",
    "    )\n",
    "    ax.set_xticks(np.arange(len(activities)))\n",
    "    if cluster_idx == nclusters - 1:\n",
    "        ax.set_xticklabels(activities, rotation=45, ha=\"right\")\n",
    "    else:\n",
    "        ax.set_xticklabels([])\n",
    "plt.subplots_adjust(hspace=0.4)\n",
    "plt.show()"
   ]
  },
  {
   "cell_type": "markdown",
   "metadata": {},
   "source": [
    "Plot the distribution of age and bmi for each cluster.\n"
   ]
  },
  {
   "cell_type": "code",
   "execution_count": 26,
   "metadata": {},
   "outputs": [
    {
     "data": {
      "image/png": "[encoded data removed]",
      "text/plain": [
       "<Figure size 640x480 with 2 Axes>"
      ]
     },
     "metadata": {},
     "output_type": "display_data"
    }
   ],
   "source": [
    "fig, axs = plt.subplots(2, 1, squeeze=False)\n",
    "for idx, y in enumerate([\"age_years\", \"bmi\"]):\n",
    "    ax = axs[idx, 0]\n",
    "    sns.boxplot(\n",
    "        merged_agg.with_columns(\n",
    "            Cluster=pl.lit(labels),\n",
    "        ).to_pandas(),\n",
    "        x=\"Cluster\",\n",
    "        y=y,\n",
    "        ax=ax,\n",
    "    )\n",
    "# fig.set_size_inches(5, 6)\n",
    "fig.subplots_adjust(hspace=0.3)\n",
    "plt.show()"
   ]
  },
  {
   "cell_type": "markdown",
   "metadata": {},
   "source": [
    "Plot the break down for age with additionally life satisfaction included.\n"
   ]
  },
  {
   "cell_type": "code",
   "execution_count": 27,
   "metadata": {},
   "outputs": [
    {
     "data": {
      "image/png": "[encoded data removed]",
      "text/plain": [
       "<Figure size 640x480 with 1 Axes>"
      ]
     },
     "metadata": {},
     "output_type": "display_data"
    }
   ],
   "source": [
    "ax = sns.boxplot(\n",
    "    merged_agg.with_columns(\n",
    "        Cluster=pl.lit(labels),\n",
    "    ).to_pandas(),\n",
    "    x=\"Cluster\",\n",
    "    y=\"age_years\",\n",
    "    hue=\"life_satisfaction\",\n",
    "    # legend_loc=\"upper right\"\n",
    "    # hue=\"has_high_blood_pressure\"\n",
    ")\n",
    "sns.move_legend(ax, \"lower left\", bbox_to_anchor=(0, 1.02), ncols=5)"
   ]
  },
  {
   "cell_type": "markdown",
   "metadata": {},
   "source": [
    "### 3. Comparison of two regions\n",
    "\n",
    "Multiple readers can be created to allow comparison of different region's populations.\n"
   ]
  },
  {
   "cell_type": "code",
   "execution_count": 28,
   "metadata": {},
   "outputs": [],
   "source": [
    "greater_london = SPCReader(\n",
    "    \"../../data/output/England/2020\",\n",
    "    \"greater-london\",\n",
    ")\n",
    "northwest_transpennine = SPCReader(\n",
    "    \"../../data/output/special/2020\", \"northwest_transpennine\"\n",
    ")"
   ]
  },
  {
   "cell_type": "code",
   "execution_count": 29,
   "metadata": {},
   "outputs": [],
   "source": [
    "def combine(left: pl.DataFrame, right: pl.DataFrame, label_left: str, label_right: str):\n",
    "    \"\"\"Construct combined table with people and households and two regions\"\"\"\n",
    "    combined = pl.concat(\n",
    "        [\n",
    "            left.with_columns(region=pl.lit(label_left)),\n",
    "            right.with_columns(region=pl.lit(label_right)),\n",
    "        ]\n",
    "    )\n",
    "    return (\n",
    "        combined.unnest(\"demographics\")\n",
    "        .unnest(\"health\")\n",
    "        .select(pl.all().exclude(\"nssec8\"))\n",
    "        .unnest(\"details\")\n",
    "        .unnest(\"employment\")\n",
    "    )"
   ]
  },
  {
   "cell_type": "markdown",
   "metadata": {},
   "source": [
    "Make combined dataframe\n"
   ]
  },
  {
   "cell_type": "code",
   "execution_count": 30,
   "metadata": {},
   "outputs": [],
   "source": [
    "left_region, right_region = \"Greater London\", \"Northwest Transpennine\"\n",
    "combined = combine(\n",
    "    greater_london.merge_people_and_households(),\n",
    "    northwest_transpennine.merge_people_and_households(),\n",
    "    left_region,\n",
    "    right_region,\n",
    ")"
   ]
  },
  {
   "cell_type": "code",
   "execution_count": 31,
   "metadata": {},
   "outputs": [
    {
     "name": "stdout",
     "output_type": "stream",
     "text": [
      "Combined regions has a population of 15,608,611 people\n"
     ]
    }
   ],
   "source": [
    "print(f\"Combined regions has a population of {combined.shape[0]:,.0f} people\")"
   ]
  },
  {
   "cell_type": "markdown",
   "metadata": {},
   "source": [
    "Examine columns\n"
   ]
  },
  {
   "cell_type": "code",
   "execution_count": 32,
   "metadata": {},
   "outputs": [
    {
     "data": {
      "text/plain": [
       "{'id': UInt64,\n",
       " 'household': UInt64,\n",
       " 'workplace': UInt64,\n",
       " 'location': Struct([Field('x', Float32), Field('y', Float32)]),\n",
       " 'orig_pid': Utf8,\n",
       " 'id_tus_hh': Int64,\n",
       " 'id_tus_p': Int64,\n",
       " 'pid_hs': Int64,\n",
       " 'sex': Int32,\n",
       " 'age_years': UInt32,\n",
       " 'ethnicity': Int32,\n",
       " 'sic1d2007': Utf8,\n",
       " 'sic2d2007': UInt64,\n",
       " 'soc2010': UInt64,\n",
       " 'pwkstat': Int32,\n",
       " 'salary_yearly': Float32,\n",
       " 'salary_hourly': Float32,\n",
       " 'bmi': Float32,\n",
       " 'has_cardiovascular_disease': Boolean,\n",
       " 'has_diabetes': Boolean,\n",
       " 'has_high_blood_pressure': Boolean,\n",
       " 'number_medications': UInt64,\n",
       " 'self_assessed_health': Int32,\n",
       " 'life_satisfaction': Int32,\n",
       " 'events': Struct([Field('sport', Float32), Field('rugby', Float32), Field('concert_m', Float32), Field('concert_f', Float32), Field('concert_ms', Float32), Field('concert_fs', Float32), Field('museum', Float32)]),\n",
       " 'weekday_diaries': List(UInt64),\n",
       " 'weekend_diaries': List(UInt64),\n",
       " 'msoa': Utf8,\n",
       " 'oa': Utf8,\n",
       " 'members': List(UInt64),\n",
       " 'hid': Utf8,\n",
       " 'nssec8': Int32,\n",
       " 'accommodation_type': Int32,\n",
       " 'communal_type': Int32,\n",
       " 'num_rooms': UInt64,\n",
       " 'central_heat': Boolean,\n",
       " 'tenure': Int32,\n",
       " 'num_cars': UInt64,\n",
       " 'region': Utf8}"
      ]
     },
     "execution_count": 32,
     "metadata": {},
     "output_type": "execute_result"
    }
   ],
   "source": [
    "dict(zip(combined.columns, combined.dtypes))"
   ]
  },
  {
   "cell_type": "markdown",
   "metadata": {},
   "source": [
    "**Question: how do salaries in the two regions compare? What features are associated?**\n"
   ]
  },
  {
   "cell_type": "markdown",
   "metadata": {},
   "source": [
    "Histogram of yearly salaries for two regions\n"
   ]
  },
  {
   "cell_type": "code",
   "execution_count": 33,
   "metadata": {},
   "outputs": [
    {
     "data": {
      "image/png": "[encoded data removed]",
      "text/plain": [
       "<Figure size 640x480 with 1 Axes>"
      ]
     },
     "metadata": {},
     "output_type": "display_data"
    }
   ],
   "source": [
    "fig, ax = plt.subplots(1, 1)\n",
    "bins = np.linspace(0, 200000, 25, endpoint=True)\n",
    "ax.hist(\n",
    "    combined.filter(pl.col(\"region\") == left_region).select(\"salary_yearly\"),\n",
    "    alpha=0.5,\n",
    "    bins=bins,\n",
    "    label=left_region,\n",
    "    density=True,\n",
    ")\n",
    "ax.hist(\n",
    "    combined.filter(pl.col(\"region\") == right_region).select(\"salary_yearly\"),\n",
    "    alpha=0.5,\n",
    "    bins=bins,\n",
    "    label=right_region,\n",
    "    density=True,\n",
    ")\n",
    "ax.legend()\n",
    "# ax.set(ylim=(0, 0.0001))\n",
    "ax.set(xlabel=\"Yearly salary (£)\", ylabel=\"Density\")\n",
    "plt.show()"
   ]
  },
  {
   "cell_type": "markdown",
   "metadata": {},
   "source": [
    "A boxplot split by region and tenure of log scaled yearly salary.\n"
   ]
  },
  {
   "cell_type": "code",
   "execution_count": 34,
   "metadata": {},
   "outputs": [
    {
     "data": {
      "image/png": "[encoded data removed]",
      "text/plain": [
       "<Figure size 640x480 with 1 Axes>"
      ]
     },
     "metadata": {},
     "output_type": "display_data"
    }
   ],
   "source": [
    "ax = sns.boxplot(\n",
    "    combined.with_columns(\n",
    "        log_salary=np.log10(pl.col(\"salary_yearly\")),\n",
    "        tenure=pl.col(\"tenure\").apply(\n",
    "            lambda x: {\n",
    "                1: \"OWNED_FULLY\",\n",
    "                2: \"OWNED_MORTGAGE\",\n",
    "                4: \"RENTED_SOCIAL\",\n",
    "                5: \"RENTED_PRIVATE\",\n",
    "            }[x]\n",
    "        ),\n",
    "    ).to_pandas(),\n",
    "    y=\"log_salary\",\n",
    "    x=\"region\",\n",
    "    hue=\"tenure\",\n",
    ")\n",
    "sns.move_legend(ax, \"lower left\", bbox_to_anchor=(0, 1.02), ncols=2)"
   ]
  },
  {
   "cell_type": "code",
   "execution_count": null,
   "metadata": {},
   "outputs": [],
   "source": []
  }
 ],
 "metadata": {
  "kernelspec": {
   "display_name": ".venv",
   "language": "python",
   "name": "python3"
  },
  "language_info": {
   "codemirror_mode": {
    "name": "ipython",
    "version": 3
   },
   "file_extension": ".py",
   "mimetype": "text/x-python",
   "name": "python",
   "nbconvert_exporter": "python",
   "pygments_lexer": "ipython3",
   "version": "3.11.6"
  },
  "orig_nbformat": 4
 },
 "nbformat": 4,
 "nbformat_minor": 2
}
